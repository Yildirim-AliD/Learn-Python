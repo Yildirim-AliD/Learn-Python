{
 "cells": [
  {
   "cell_type": "code",
   "execution_count": 47,
   "id": "29c832b4-019e-4957-84ae-7eb929daf50b",
   "metadata": {},
   "outputs": [
    {
     "name": "stdout",
     "output_type": "stream",
     "text": [
      "Merhaba, Ali!\n",
      "Sum of 5 and 3: 8\n",
      "Is 4 even? True\n"
     ]
    }
   ],
   "source": [
    "import modules\n",
    "\n",
    "print(modules.greet(\"Ali\"))\n",
    "print(\"Sum of 5 and 3:\", modules.add(5, 3))\n",
    "print(\"Is 4 even?\", modules.is_even(4))"
   ]
  },
  {
   "cell_type": "code",
   "execution_count": null,
   "id": "c325df34-9e09-431a-a629-ec85c9fa0a13",
   "metadata": {},
   "outputs": [],
   "source": []
  }
 ],
 "metadata": {
  "kernelspec": {
   "display_name": "Python 3 (ipykernel)",
   "language": "python",
   "name": "python3"
  },
  "language_info": {
   "codemirror_mode": {
    "name": "ipython",
    "version": 3
   },
   "file_extension": ".py",
   "mimetype": "text/x-python",
   "name": "python",
   "nbconvert_exporter": "python",
   "pygments_lexer": "ipython3",
   "version": "3.12.7"
  }
 },
 "nbformat": 4,
 "nbformat_minor": 5
}
