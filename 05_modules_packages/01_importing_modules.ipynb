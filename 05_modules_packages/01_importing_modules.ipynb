{
 "cells": [
  {
   "cell_type": "code",
   "execution_count": 2,
   "id": "e57f47d8-2b45-4150-b830-886cb2186052",
   "metadata": {},
   "outputs": [
    {
     "name": "stdout",
     "output_type": "stream",
     "text": [
      "Pi value: 3.141592653589793\n",
      "Square root of 16: 4.0\n",
      "Cosine of 0: 1.0\n"
     ]
    }
   ],
   "source": [
    "import math\n",
    "\n",
    "print(\"Pi value:\", math.pi)\n",
    "print(\"Square root of 16:\", math.sqrt(16))\n",
    "print(\"Cosine of 0:\", math.cos(0))"
   ]
  },
  {
   "cell_type": "code",
   "execution_count": 4,
   "id": "b798fbc3-2be1-4a80-b3b6-d98f5b62e6a8",
   "metadata": {},
   "outputs": [
    {
     "name": "stdout",
     "output_type": "stream",
     "text": [
      "Today's date: 2025-07-20\n",
      "Current time: 2025-07-20 03:15:00.019264\n"
     ]
    }
   ],
   "source": [
    "from datetime import date, datetime\n",
    "\n",
    "today = date.today()\n",
    "now = datetime.now()\n",
    "\n",
    "print(\"Today's date:\", today)\n",
    "print(\"Current time:\", now)"
   ]
  },
  {
   "cell_type": "code",
   "execution_count": 6,
   "id": "d6ad3093-b7fa-44bc-abb7-fbc7b96c1e2e",
   "metadata": {},
   "outputs": [
    {
     "name": "stdout",
     "output_type": "stream",
     "text": [
      "Numpy array: [1 2 3]\n"
     ]
    }
   ],
   "source": [
    "import numpy as np\n",
    "\n",
    "array = np.array([1, 2, 3])\n",
    "print(\"Numpy array:\", array)"
   ]
  },
  {
   "cell_type": "code",
   "execution_count": 8,
   "id": "d4341d56-bc9d-4869-8294-c4adf1548ea5",
   "metadata": {},
   "outputs": [
    {
     "name": "stdout",
     "output_type": "stream",
     "text": [
      "Ceil of 4.3: 5\n",
      "Floor of 4.7: 4\n"
     ]
    }
   ],
   "source": [
    "from math import ceil, floor\n",
    "\n",
    "print(\"Ceil of 4.3:\", ceil(4.3))\n",
    "print(\"Floor of 4.7:\", floor(4.7))"
   ]
  },
  {
   "cell_type": "code",
   "execution_count": null,
   "id": "52c8d460-1b14-4510-86e4-8e287119d367",
   "metadata": {},
   "outputs": [],
   "source": []
  }
 ],
 "metadata": {
  "kernelspec": {
   "display_name": "Python 3 (ipykernel)",
   "language": "python",
   "name": "python3"
  },
  "language_info": {
   "codemirror_mode": {
    "name": "ipython",
    "version": 3
   },
   "file_extension": ".py",
   "mimetype": "text/x-python",
   "name": "python",
   "nbconvert_exporter": "python",
   "pygments_lexer": "ipython3",
   "version": "3.12.7"
  }
 },
 "nbformat": 4,
 "nbformat_minor": 5
}
