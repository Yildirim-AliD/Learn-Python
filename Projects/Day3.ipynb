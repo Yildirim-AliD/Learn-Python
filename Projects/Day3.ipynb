{
 "cells": [
  {
   "cell_type": "code",
   "execution_count": 1,
   "id": "53b40a8c-2929-497a-8319-7fb3c8ab25c1",
   "metadata": {},
   "outputs": [
    {
     "name": "stdin",
     "output_type": "stream",
     "text": [
      "Enter your name:  Yıldırım\n"
     ]
    },
    {
     "name": "stdout",
     "output_type": "stream",
     "text": [
      "Hello, Yıldırım\n"
     ]
    },
    {
     "name": "stdin",
     "output_type": "stream",
     "text": [
      "Enter a number:  12\n"
     ]
    },
    {
     "name": "stdout",
     "output_type": "stream",
     "text": [
      "Number doubled: 1212\n"
     ]
    },
    {
     "name": "stdin",
     "output_type": "stream",
     "text": [
      "Enter first number:  2\n",
      "Enter second number:  3\n"
     ]
    },
    {
     "name": "stdout",
     "output_type": "stream",
     "text": [
      "The sum of 2 and 3 is 5\n",
      "Addition: 8\n",
      "Subtraction: 2\n",
      "Multiplication: 15\n",
      "Division: 1.6666666666666667\n",
      "Floor Division: 1\n",
      "Modulus: 2\n",
      "Exponentiation: 125\n"
     ]
    },
    {
     "name": "stdin",
     "output_type": "stream",
     "text": [
      "Enter the first number:  12\n",
      "Enter the second number:  23\n"
     ]
    },
    {
     "name": "stdout",
     "output_type": "stream",
     "text": [
      "\n",
      "--- Calculator Results ----\n",
      "Addition:12.0 + 23.0 = 35.0\n",
      "Subtraction:12.0 - 23.0 =  -11.0\n",
      "Multiplication:12.0 x 23.0 =  276.0\n",
      "Division:12.0 / 23.0 =  0.5217391304347826\n"
     ]
    }
   ],
   "source": [
    "name = input(\"Enter your name: \")\n",
    "print(f\"Hello, {name}\")\n",
    "\n",
    "num1 = int(input(\"Enter a number: \"))\n",
    "num1 = str(num1)\n",
    "print(f\"Number doubled: {num1 * 2}\")\n",
    "\n",
    "num1 = int(input(\"Enter first number: \"))\n",
    "num2 = int(input(\"Enter second number: \"))\n",
    "result = num1 + num2\n",
    "\n",
    "print(f\"The sum of {num1} and {num2} is {result}\")\n",
    "\n",
    "a = 5\n",
    "b = 3\n",
    "\n",
    "print(f\"Addition: {a + b}\")\n",
    "print(f\"Subtraction: {a - b}\")\n",
    "print(f\"Multiplication: {a * b}\")\n",
    "print(f\"Division: {a / b}\")\n",
    "print(f\"Floor Division: {a // b}\")\n",
    "print(f\"Modulus: {a % b}\")\n",
    "print(f\"Exponentiation: {a ** b}\")\n",
    "\n",
    "# Simple Calculator\n",
    "\n",
    "# Step 1: Get user input for two numbers\n",
    "number1 = float(input(\"Enter the first number: \"))\n",
    "number2 = float(input(\"Enter the second number: \"))\n",
    "\n",
    "# Step 2: Perform arithmetic operation\n",
    "addition = number1 + number2\n",
    "subtraction = number1 - number2\n",
    "multiplication = number1 * number2\n",
    "division = number1 / number2 if num2 != 0 else \"Cannot divide by zero\"\n",
    "\n",
    "# Step 3: Display the results\n",
    "print(\"\\n--- Calculator Results ----\")\n",
    "print(f\"Addition:{number1} + {number2} = {addition}\")\n",
    "print(f\"Subtraction:{number1} - {number2} =  {subtraction}\")\n",
    "print(f\"Multiplication:{number1} x {number2} =  {multiplication}\")\n",
    "print(f\"Division:{number1} / {number2} =  {division}\")"
   ]
  },
  {
   "cell_type": "code",
   "execution_count": null,
   "id": "466b2645-e834-4578-b637-4958df050602",
   "metadata": {},
   "outputs": [],
   "source": []
  }
 ],
 "metadata": {
  "kernelspec": {
   "display_name": "Python 3 (ipykernel)",
   "language": "python",
   "name": "python3"
  },
  "language_info": {
   "codemirror_mode": {
    "name": "ipython",
    "version": 3
   },
   "file_extension": ".py",
   "mimetype": "text/x-python",
   "name": "python",
   "nbconvert_exporter": "python",
   "pygments_lexer": "ipython3",
   "version": "3.12.7"
  }
 },
 "nbformat": 4,
 "nbformat_minor": 5
}
