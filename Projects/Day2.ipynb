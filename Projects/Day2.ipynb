{
 "cells": [
  {
   "cell_type": "code",
   "execution_count": 1,
   "id": "1fc93eb9-0509-485c-b0d4-6fa421827187",
   "metadata": {},
   "outputs": [
    {
     "name": "stdout",
     "output_type": "stream",
     "text": [
      "<class 'str'>\n",
      "<class 'int'>\n",
      "<class 'float'>\n",
      "<class 'bool'>\n",
      "47\n",
      "Hello, Ali!\n",
      "Hello My Friend, Ali!\n",
      "Hello, Ali!\n"
     ]
    },
    {
     "name": "stdin",
     "output_type": "stream",
     "text": [
      "What is your name?  Ali\n",
      "How old are you?  23\n",
      "What is your favorite color?  Black\n"
     ]
    },
    {
     "name": "stdout",
     "output_type": "stream",
     "text": [
      "\n",
      "---- Personalized Greeting ----\n",
      "Hello, Ali! 👋\n",
      "You are 23 years old and Black is a beautiful color!\n",
      "You're now ready to start your Python adventure 🚀🐍\n"
     ]
    }
   ],
   "source": [
    "# Storing a name in a variable\n",
    "name = \"Ali\"\n",
    "nameOfPerson = \"Aranha\"\n",
    "\n",
    "# Storing an age in a variable\n",
    "age = 42\n",
    "\n",
    "# String\n",
    "name = \"Ali\"\n",
    "\n",
    "# Integer\n",
    "age = 42\n",
    "\n",
    "# Float\n",
    "height = 5.8\n",
    "\n",
    "# Boolean\n",
    "is_student = False\n",
    "\n",
    "print(type(name))\n",
    "print(type(age))\n",
    "print(type(height))\n",
    "print(type(is_student))\n",
    "\n",
    "age = \"42\"\n",
    "\n",
    "myAge = int(age)\n",
    "\n",
    "print(myAge + 5)\n",
    "\n",
    "name = \"Ali\"\n",
    "\n",
    "print(\"Hello, \" + name + \"!\")\n",
    "\n",
    "print(\"Hello My Friend, {}!\".format(name))\n",
    "\n",
    "print(f\"Hello, {name}!\")\n",
    "\n",
    "# Personalized Greeting Program\n",
    "\n",
    "# Step 1: Ask for user details\n",
    "name = input(\"What is your name? \")\n",
    "age = int(input(\"How old are you? \"))\n",
    "color = input(\"What is your favorite color? \")\n",
    "\n",
    "# Step 2: Generate a personalized greeting message\n",
    "print(\"\\n---- Personalized Greeting ----\")\n",
    "print(f\"Hello, {name}! 👋\")\n",
    "print(f\"You are {age} years old and {color} is a beautiful color!\")\n",
    "print(\"You're now ready to start your Python adventure 🚀🐍\")"
   ]
  },
  {
   "cell_type": "code",
   "execution_count": null,
   "id": "359beb56-23dd-4b54-a642-d46c0de117ae",
   "metadata": {},
   "outputs": [],
   "source": []
  }
 ],
 "metadata": {
  "kernelspec": {
   "display_name": "Python 3 (ipykernel)",
   "language": "python",
   "name": "python3"
  },
  "language_info": {
   "codemirror_mode": {
    "name": "ipython",
    "version": 3
   },
   "file_extension": ".py",
   "mimetype": "text/x-python",
   "name": "python",
   "nbconvert_exporter": "python",
   "pygments_lexer": "ipython3",
   "version": "3.12.7"
  }
 },
 "nbformat": 4,
 "nbformat_minor": 5
}
