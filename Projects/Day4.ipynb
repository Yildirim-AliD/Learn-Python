{
 "cells": [
  {
   "cell_type": "code",
   "execution_count": 1,
   "id": "3189e661-e345-4e00-a28c-df04235f200f",
   "metadata": {},
   "outputs": [
    {
     "name": "stdout",
     "output_type": "stream",
     "text": [
      "The number is equal to 4.\n",
      "Both conditions are false.\n"
     ]
    },
    {
     "name": "stdin",
     "output_type": "stream",
     "text": [
      "Enter the first number:  12\n",
      "Enter the second number:  23\n"
     ]
    },
    {
     "name": "stdout",
     "output_type": "stream",
     "text": [
      "\n",
      "--- Comparison Results ----\n",
      "23.0 is greater than 12.0\n",
      "\n",
      "Both numbers are non-zero.\n"
     ]
    }
   ],
   "source": [
    "number = 4\n",
    "\n",
    "if number > 5:\n",
    "  print(\"The number is greater than 5.\")\n",
    "elif number == 5:\n",
    "  print(\"The number is equal to 5.\")\n",
    "elif number == 4:\n",
    "  print(\"The number is equal to 4.\")\n",
    "else:\n",
    "  print(\"The number is less than 5.\")\n",
    "\n",
    "a = 2\n",
    "b = 20\n",
    "\n",
    "if a > 5 or b < 15:\n",
    "  print(\"Either one of them is true\")\n",
    "else:\n",
    "  print(\"Both conditions are false.\")\n",
    "\n",
    "# Number Comparison Tool\n",
    "\n",
    "# Step 1: Get user input for two numbers\n",
    "num1 = float(input(\"Enter the first number: \"))\n",
    "num2 = float(input(\"Enter the second number: \"))\n",
    "\n",
    "# Step 2: Compare the numbers\n",
    "print(\"\\n--- Comparison Results ----\")\n",
    "\n",
    "if num1 == num2:\n",
    "    print(f\"Both numbers are equal: {num1}\")\n",
    "elif num1 > num2:\n",
    "    print(f\"{num1} is greater than {num2}\")\n",
    "else:\n",
    "    print(f\"{num2} is greater than {num1}\")\n",
    "\n",
    "# Step 3: Check if any number is zero\n",
    "if num1 == 0 or num2 == 0:\n",
    "    print(\"\\nAt least one number is zero.\")\n",
    "else:\n",
    "    print(\"\\nBoth numbers are non-zero.\")"
   ]
  },
  {
   "cell_type": "code",
   "execution_count": null,
   "id": "9c8eea3a-b5a7-40b5-a4ee-e8c1c760719a",
   "metadata": {},
   "outputs": [],
   "source": []
  }
 ],
 "metadata": {
  "kernelspec": {
   "display_name": "Python 3 (ipykernel)",
   "language": "python",
   "name": "python3"
  },
  "language_info": {
   "codemirror_mode": {
    "name": "ipython",
    "version": 3
   },
   "file_extension": ".py",
   "mimetype": "text/x-python",
   "name": "python",
   "nbconvert_exporter": "python",
   "pygments_lexer": "ipython3",
   "version": "3.12.7"
  }
 },
 "nbformat": 4,
 "nbformat_minor": 5
}
