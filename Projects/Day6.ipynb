{
 "cells": [
  {
   "cell_type": "code",
   "execution_count": 1,
   "id": "eed0ac7d-4d38-4987-b3c3-ba1212de4c53",
   "metadata": {},
   "outputs": [
    {
     "name": "stdout",
     "output_type": "stream",
     "text": [
      "Hello from the function\n",
      "Hello, welcome to Python!\n",
      "Hello, Vivian! welcome to Python!\n",
      "The sum is: 9\n",
      "The result is:  20\n",
      "\n",
      "--- Welcome to the Math Quiz Game! ---\n",
      "You will be presented with math problems, and you need to provide the correct answers.\n",
      "\n",
      "Question 1: 4 + 3\n"
     ]
    },
    {
     "name": "stdin",
     "output_type": "stream",
     "text": [
      "Your answer:  7\n"
     ]
    },
    {
     "name": "stdout",
     "output_type": "stream",
     "text": [
      "Correct!\n",
      "\n",
      "Question 2: 3 - 1\n"
     ]
    },
    {
     "name": "stdin",
     "output_type": "stream",
     "text": [
      "Your answer:  2\n"
     ]
    },
    {
     "name": "stdout",
     "output_type": "stream",
     "text": [
      "Correct!\n",
      "\n",
      "Question 3: 8 * 5\n"
     ]
    },
    {
     "name": "stdin",
     "output_type": "stream",
     "text": [
      "Your answer:  40\n"
     ]
    },
    {
     "name": "stdout",
     "output_type": "stream",
     "text": [
      "Correct!\n",
      "\n",
      "Question 4: 3 + 4\n"
     ]
    },
    {
     "name": "stdin",
     "output_type": "stream",
     "text": [
      "Your answer:  7\n"
     ]
    },
    {
     "name": "stdout",
     "output_type": "stream",
     "text": [
      "Correct!\n",
      "\n",
      "Question 5: 1 - 8\n"
     ]
    },
    {
     "name": "stdin",
     "output_type": "stream",
     "text": [
      "Your answer:  -7\n"
     ]
    },
    {
     "name": "stdout",
     "output_type": "stream",
     "text": [
      "Correct!\n",
      "\n",
      "--- Game Over! ---\n",
      "Your final score is: 5/5\n",
      "Congratulations! You got all the questions correct.\n"
     ]
    }
   ],
   "source": [
    "def function_name():\n",
    "  # Code block inside the functuion\n",
    "  print(\"Hello from the function\")\n",
    "\n",
    "function_name()\n",
    "\n",
    "def greet():\n",
    "  print(\"Hello, welcome to Python!\")\n",
    "\n",
    "greet()\n",
    "\n",
    "def greet_user(name):\n",
    "  print(f\"Hello, {name}! welcome to Python!\")\n",
    "\n",
    "greet_user('Vivian')\n",
    "\n",
    "def add(a, b):\n",
    "  print(f\"The sum is: {a + b}\")\n",
    "\n",
    "add(5, 4)\n",
    "\n",
    "def multiply(a, b):\n",
    "  return a * b\n",
    "\n",
    "result = multiply(5, 4)\n",
    "print(\"The result is: \", result)\n",
    "\n",
    "# Basic Math Quiz Game\n",
    "\n",
    "import random\n",
    "\n",
    "# Step 1: Define the math question function\n",
    "def generate_question():\n",
    "  num1 = random.randint(1, 10)\n",
    "  num2 = random.randint(1, 10)\n",
    "  operator = random.choice(['+', '-', '*'])\n",
    "\n",
    "  if operator == '+':\n",
    "    answer = num1 + num2\n",
    "  elif operator == '-':\n",
    "    answer = num1 - num2\n",
    "  else:\n",
    "    answer = num1 * num2\n",
    "\n",
    "  return f\"{num1} {operator} {num2}\", answer\n",
    "\n",
    "# Step 2: Main Quiz Game Function\n",
    "def math_quiz():\n",
    "  score = 0\n",
    "  rounds = 5\n",
    "\n",
    "  print(\"\\n--- Welcome to the Math Quiz Game! ---\")\n",
    "  print(\"You will be presented with math problems, and you need to provide the correct answers.\")\n",
    "\n",
    "  for i in range(rounds):\n",
    "    question, correct_answer = generate_question()\n",
    "    print(f\"\\nQuestion {i + 1}: {question}\")\n",
    "    user_answer = int(input(\"Your answer: \"))\n",
    "\n",
    "    if user_answer == correct_answer:\n",
    "      print(\"Correct!\")\n",
    "      score += 1\n",
    "    else:\n",
    "      print(f\"Wrong! The correct answer is: {correct_answer}\")\n",
    "\n",
    "  print(\"\\n--- Game Over! ---\")\n",
    "  print(f\"Your final score is: {score}/{rounds}\")\n",
    "  if score == rounds:\n",
    "    print(\"Congratulations! You got all the questions correct.\")\n",
    "  elif score >= rounds // 2:\n",
    "    print(\"Good job! You did well.\")\n",
    "  else:\n",
    "    print(\"Keep practicing! You can do better next time.\")\n",
    "\n",
    "\n",
    "# Step 3: Run the Game\n",
    "math_quiz()"
   ]
  },
  {
   "cell_type": "code",
   "execution_count": null,
   "id": "5fc1b387-ef14-42a0-87a9-df3c1f28f688",
   "metadata": {},
   "outputs": [],
   "source": []
  }
 ],
 "metadata": {
  "kernelspec": {
   "display_name": "Python 3 (ipykernel)",
   "language": "python",
   "name": "python3"
  },
  "language_info": {
   "codemirror_mode": {
    "name": "ipython",
    "version": 3
   },
   "file_extension": ".py",
   "mimetype": "text/x-python",
   "name": "python",
   "nbconvert_exporter": "python",
   "pygments_lexer": "ipython3",
   "version": "3.12.7"
  }
 },
 "nbformat": 4,
 "nbformat_minor": 5
}
