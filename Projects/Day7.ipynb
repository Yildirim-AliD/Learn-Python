{
 "cells": [
  {
   "cell_type": "code",
   "execution_count": 1,
   "id": "4b959ae6-d044-456f-9aa6-cf037f480163",
   "metadata": {},
   "outputs": [
    {
     "name": "stdout",
     "output_type": "stream",
     "text": [
      "\n",
      "--- Shopping List Menu ---\n",
      "1. View the shopping list\n",
      "2. Add an item\n",
      "3. Remove an item\n",
      "4. Clear List\n",
      "5. Exit\n"
     ]
    },
    {
     "name": "stdin",
     "output_type": "stream",
     "text": [
      "Enter your choice (1-5):  5\n"
     ]
    },
    {
     "name": "stdout",
     "output_type": "stream",
     "text": [
      "Goodbye! Happy Shopping!\n"
     ]
    }
   ],
   "source": [
    "# Shopping List App\n",
    "\n",
    "# Step 1: Initialize an empty shopping list\n",
    "shopping_list = []\n",
    "\n",
    "# Step 2: Define the main menu\n",
    "def show_menu():\n",
    "  print(\"\\n--- Shopping List Menu ---\")\n",
    "  print(\"1. View the shopping list\")\n",
    "  print(\"2. Add an item\")\n",
    "  print(\"3. Remove an item\")\n",
    "  print(\"4. Clear List\")\n",
    "  print(\"5. Exit\")\n",
    "\n",
    "# Step 3: Main Program Loop\n",
    "while True:\n",
    "  show_menu()\n",
    "  choice = input(\"Enter your choice (1-5): \")\n",
    "\n",
    "  if choice == \"1\":\n",
    "    print(\"\\n--- Shopping List ---\")\n",
    "    if not shopping_list:\n",
    "      print(\"Your shopping list is empty.\")\n",
    "    else:\n",
    "      for index, item in enumerate(shopping_list):\n",
    "        print(f\"{index + 1}. {item}\")\n",
    "\n",
    "  elif choice == \"2\":\n",
    "    item = input(\"Enter the item to add: \")\n",
    "    shopping_list.append(item)\n",
    "    print(f\"{item} has been added to the shopping list.\")\n",
    "\n",
    "  elif choice == \"3\":\n",
    "    item = input(\"Enter the item to remove: \")\n",
    "    if item in shopping_list:\n",
    "      shopping_list.remove(item)\n",
    "      print(f\"{item} has been removed from the shopping list.\")\n",
    "    else:\n",
    "      print(f\"{item} is not in the shopping list.\")\n",
    "\n",
    "  elif choice == \"4\":\n",
    "    shopping_list.clear()\n",
    "    print(\"The shopping list has been cleared.\")\n",
    "\n",
    "  elif choice == \"5\":\n",
    "    print(\"Goodbye! Happy Shopping!\")\n",
    "    break\n",
    "\n",
    "  else:\n",
    "    print(\"Invalid choice. Please try again.\")"
   ]
  },
  {
   "cell_type": "code",
   "execution_count": null,
   "id": "cbb6bd47-dd0d-4a76-b18f-f123a9879ab2",
   "metadata": {},
   "outputs": [],
   "source": []
  }
 ],
 "metadata": {
  "kernelspec": {
   "display_name": "Python 3 (ipykernel)",
   "language": "python",
   "name": "python3"
  },
  "language_info": {
   "codemirror_mode": {
    "name": "ipython",
    "version": 3
   },
   "file_extension": ".py",
   "mimetype": "text/x-python",
   "name": "python",
   "nbconvert_exporter": "python",
   "pygments_lexer": "ipython3",
   "version": "3.12.7"
  }
 },
 "nbformat": 4,
 "nbformat_minor": 5
}
