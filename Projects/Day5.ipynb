{
 "cells": [
  {
   "cell_type": "code",
   "execution_count": 13,
   "id": "6fb354d1-cb36-4a97-9145-f9602fef6e76",
   "metadata": {},
   "outputs": [
    {
     "name": "stdout",
     "output_type": "stream",
     "text": [
      "5\n",
      "4\n",
      "3\n",
      "2\n",
      "1\n",
      "0\n",
      "1\n",
      "2\n",
      "3\n",
      "4\n",
      "10\n",
      "8\n",
      "6\n",
      "4\n",
      "2\n",
      "Happy New Year!\n"
     ]
    },
    {
     "name": "stdin",
     "output_type": "stream",
     "text": [
      "Enter the number to start the countdown from:  3\n"
     ]
    },
    {
     "name": "stdout",
     "output_type": "stream",
     "text": [
      "\n",
      "--- Countdown Begins ---\n",
      "3\n",
      "2\n",
      "1\n",
      "Countdown Complete!\n"
     ]
    }
   ],
   "source": [
    "#for variable in range(start, stop, step):\n",
    "    # Code to repeat\n",
    "\n",
    "for i in range(5, 0, -1):\n",
    "    print(i)\n",
    "\n",
    "#while condition:\n",
    "    # Code to repeat\n",
    "\n",
    "count = 0\n",
    "while count < 5:\n",
    "    print(count)\n",
    "    count += 1  # while içinde döngüyü ilerletmek için artırma ekledim\n",
    "\n",
    "import time\n",
    "\n",
    "for i in range(10, 0, -2):\n",
    "    print(i)\n",
    "    time.sleep(2)\n",
    "print(\"Happy New Year!\")\n",
    "\n",
    "# Countdown Timer\n",
    "\n",
    "import time\n",
    "\n",
    "# Step 1: Get user input for countdown start\n",
    "start = int(input(\"Enter the number to start the countdown from: \"))\n",
    "\n",
    "# Step 2: Countdown using a while loop\n",
    "print(\"\\n--- Countdown Begins ---\")\n",
    "while start > 0:\n",
    "    print(start)\n",
    "    time.sleep(1)\n",
    "    start -= 1\n",
    "\n",
    "# Step 3: Print final message\n",
    "print(\"Countdown Complete!\")"
   ]
  },
  {
   "cell_type": "code",
   "execution_count": null,
   "id": "f7cb0eff-f48d-4208-b1dc-4abbd6dbb844",
   "metadata": {},
   "outputs": [],
   "source": []
  }
 ],
 "metadata": {
  "kernelspec": {
   "display_name": "Python 3 (ipykernel)",
   "language": "python",
   "name": "python3"
  },
  "language_info": {
   "codemirror_mode": {
    "name": "ipython",
    "version": 3
   },
   "file_extension": ".py",
   "mimetype": "text/x-python",
   "name": "python",
   "nbconvert_exporter": "python",
   "pygments_lexer": "ipython3",
   "version": "3.12.7"
  }
 },
 "nbformat": 4,
 "nbformat_minor": 5
}
