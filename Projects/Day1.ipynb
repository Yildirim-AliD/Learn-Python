{
 "cells": [
  {
   "cell_type": "code",
   "execution_count": 1,
   "id": "18b18009-eb56-4e4c-bd62-c33df2a25173",
   "metadata": {},
   "outputs": [
    {
     "name": "stdout",
     "output_type": "stream",
     "text": [
      "Hello, Python World!\n",
      "The number is 4\n",
      "2 + 2 = 5\n",
      "Hello, Vivian! Welcome to Python Programming\n"
     ]
    },
    {
     "name": "stdin",
     "output_type": "stream",
     "text": [
      "What is your name?  Ali\n"
     ]
    },
    {
     "name": "stdout",
     "output_type": "stream",
     "text": [
      "Hello, Ali! Welcome to Python Programming\n"
     ]
    },
    {
     "name": "stdin",
     "output_type": "stream",
     "text": [
      "What's your name?  Ali\n",
      "What's your favorite hobby?  gaming\n"
     ]
    },
    {
     "name": "stdout",
     "output_type": "stream",
     "text": [
      "\n",
      "--- Welcome Message ---\n",
      "Hello, Ali! 👋\n",
      "Welcome to the world of Python Programming.\n",
      "It's great to know that you love gaming.\n",
      "Get ready to build something amazing today.\n"
     ]
    }
   ],
   "source": [
    "print(\"Hello, Python World!\")\n",
    "\n",
    "print(\"The number is\", 4)\n",
    "print(\"2 + 2 =\", 3 + 2)\n",
    "\n",
    "name = \"Vivian\"\n",
    "print(f\"Hello, {name}! Welcome to Python Programming\")\n",
    "\n",
    "userName = input(\"What is your name? \")\n",
    "print(f\"Hello, {userName}! Welcome to Python Programming\")\n",
    "\n",
    "# Welcome Message Generator\n",
    "\n",
    "# Step 1: Ask for user details\n",
    "name = input(\"What's your name? \")\n",
    "hobby = input(\"What's your favorite hobby? \")\n",
    "\n",
    "# Step 2: Generate a personalized welcome message\n",
    "print(\"\\n--- Welcome Message ---\")\n",
    "print(f\"Hello, {name}! 👋\")\n",
    "print(f\"Welcome to the world of Python Programming.\")\n",
    "print(f\"It's great to know that you love {hobby}.\")\n",
    "print(f\"Get ready to build something amazing today.\")"
   ]
  },
  {
   "cell_type": "code",
   "execution_count": null,
   "id": "1b9b1758-825c-4704-aa95-a4cbd4e85df8",
   "metadata": {},
   "outputs": [],
   "source": []
  }
 ],
 "metadata": {
  "kernelspec": {
   "display_name": "Python 3 (ipykernel)",
   "language": "python",
   "name": "python3"
  },
  "language_info": {
   "codemirror_mode": {
    "name": "ipython",
    "version": 3
   },
   "file_extension": ".py",
   "mimetype": "text/x-python",
   "name": "python",
   "nbconvert_exporter": "python",
   "pygments_lexer": "ipython3",
   "version": "3.12.7"
  }
 },
 "nbformat": 4,
 "nbformat_minor": 5
}
