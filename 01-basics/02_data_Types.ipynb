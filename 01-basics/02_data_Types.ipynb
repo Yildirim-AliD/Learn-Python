{
 "cells": [
  {
   "cell_type": "code",
   "execution_count": 9,
   "id": "dc88b0c0-5091-400a-b14a-f734c6b9bb4c",
   "metadata": {},
   "outputs": [
    {
     "name": "stdout",
     "output_type": "stream",
     "text": [
      "<class 'int'>\n",
      "32\n"
     ]
    }
   ],
   "source": [
    "x = 42\n",
    "y = -10\n",
    "z = 0\n",
    "\n",
    "print(type(x)) \n",
    "print(x + y)"
   ]
  },
  {
   "cell_type": "code",
   "execution_count": 11,
   "id": "5f6daf9e-5c72-49b3-8618-d3117b5970e3",
   "metadata": {},
   "outputs": [
    {
     "name": "stdout",
     "output_type": "stream",
     "text": [
      "<class 'float'>\n",
      "6.28\n",
      "3.3333333333333335\n"
     ]
    }
   ],
   "source": [
    "pi = 3.14\n",
    "g = -9.81\n",
    "\n",
    "print(type(pi))     \n",
    "print(pi * 2)     \n",
    "print(10 / 3)       "
   ]
  },
  {
   "cell_type": "code",
   "execution_count": 43,
   "id": "45d112e3-0f68-45fc-b131-9f004309ec93",
   "metadata": {},
   "outputs": [
    {
     "name": "stdout",
     "output_type": "stream",
     "text": [
      "<class 'str'>\n",
      "PYTHON\n",
      "python\n",
      "Ali Yıldırım\n",
      "Ali yıldırım\n",
      "ali Ali\n",
      "Ali Ali\n",
      "['ali', 'yıldırım']\n",
      "['ali', 'yıldırım']\n",
      "Python is fun\n",
      "13\n",
      "P\n"
     ]
    }
   ],
   "source": [
    "name = \"Python\"\n",
    "msg = 'Hello, World!'\n",
    "fullName= \"ali yıldırım\"\n",
    "print(type(name))        \n",
    "print(name.upper())\n",
    "print(name.lower())\n",
    "print(fullName.title())\n",
    "print(fullName.capitalize())\n",
    "print(fullName.replace(\"yıldırım\", \"Ali\"))\n",
    "print(fullName.title().replace(\"Yıldırım\", \"Ali\"))\n",
    "print(fullName.split())  \n",
    "print(fullName.split(\" \"))\n",
    "words = ['Python', 'is', 'fun']\n",
    "print(\" \".join(words))\n",
    "print(len(msg))           \n",
    "print(name[0])            "
   ]
  },
  {
   "cell_type": "code",
   "execution_count": 15,
   "id": "5557d33d-b4cb-4331-a78f-9d54d162602a",
   "metadata": {},
   "outputs": [
    {
     "name": "stdout",
     "output_type": "stream",
     "text": [
      "<class 'bool'>\n",
      "False\n",
      "True\n"
     ]
    }
   ],
   "source": [
    "is_active = True\n",
    "is_closed = False\n",
    "\n",
    "print(type(is_active))    \n",
    "print(is_active and is_closed)  \n",
    "print(not is_closed)      "
   ]
  },
  {
   "cell_type": "code",
   "execution_count": 17,
   "id": "1a91c913-23d4-4197-849a-6afb71538059",
   "metadata": {},
   "outputs": [
    {
     "name": "stdout",
     "output_type": "stream",
     "text": [
      "<class 'list'>\n",
      "apple\n",
      "['apple', 'banana', 'cherry', 'grape']\n"
     ]
    }
   ],
   "source": [
    "fruits = [\"apple\", \"banana\", \"cherry\"]\n",
    "\n",
    "print(type(fruits))     \n",
    "print(fruits[0])          \n",
    "fruits.append(\"grape\")\n",
    "print(fruits)             "
   ]
  },
  {
   "cell_type": "code",
   "execution_count": 19,
   "id": "509268fc-01d5-4beb-85af-da0ff899f00c",
   "metadata": {},
   "outputs": [
    {
     "name": "stdout",
     "output_type": "stream",
     "text": [
      "<class 'tuple'>\n",
      "20\n"
     ]
    }
   ],
   "source": [
    "point = (10, 20)\n",
    "print(type(point))       \n",
    "print(point[1])           "
   ]
  },
  {
   "cell_type": "code",
   "execution_count": 27,
   "id": "64caa216-408e-46b8-a419-6172d233e221",
   "metadata": {},
   "outputs": [
    {
     "name": "stdout",
     "output_type": "stream",
     "text": [
      "<class 'set'>\n",
      "{'blue', 'red', 'green'}\n",
      "{'blue', 'yellow', 'red', 'green'}\n",
      "{'blue', 'yellow', 'red', 'green'}\n"
     ]
    }
   ],
   "source": [
    "colors = {\"red\", \"green\", \"blue\", \"green\"}\n",
    "\n",
    "print(type(colors))      \n",
    "print(colors)            \n",
    "colors.add(\"yellow\")\n",
    "print(colors)\n",
    "colors.add(\"yellow\")\n",
    "print(colors)"
   ]
  },
  {
   "cell_type": "code",
   "execution_count": 23,
   "id": "f4143629-9b62-4806-b6a4-564019ad5bc3",
   "metadata": {},
   "outputs": [
    {
     "name": "stdout",
     "output_type": "stream",
     "text": [
      "<class 'dict'>\n",
      "Alice\n",
      "{'name': 'Alice', 'age': 31, 'city': 'Berlin'}\n"
     ]
    }
   ],
   "source": [
    "person = {\n",
    "    \"name\": \"Alice\",\n",
    "    \"age\": 30,\n",
    "    \"city\": \"Berlin\"\n",
    "}\n",
    "\n",
    "print(type(person))     \n",
    "print(person[\"name\"])    \n",
    "person[\"age\"] = 31\n",
    "print(person)"
   ]
  },
  {
   "cell_type": "code",
   "execution_count": 25,
   "id": "0eaa18f8-bb28-413f-b6c9-ddebf59ca0d9",
   "metadata": {},
   "outputs": [
    {
     "name": "stdout",
     "output_type": "stream",
     "text": [
      "<class 'int'>\n",
      "True\n",
      "False\n"
     ]
    }
   ],
   "source": [
    "a = 10\n",
    "print(type(a))               \n",
    "print(isinstance(a, int))     \n",
    "print(isinstance(a, float))  "
   ]
  },
  {
   "cell_type": "code",
   "execution_count": null,
   "id": "46636be7-9adf-4916-80db-e1be9abf4e27",
   "metadata": {},
   "outputs": [],
   "source": []
  }
 ],
 "metadata": {
  "kernelspec": {
   "display_name": "Python 3 (ipykernel)",
   "language": "python",
   "name": "python3"
  },
  "language_info": {
   "codemirror_mode": {
    "name": "ipython",
    "version": 3
   },
   "file_extension": ".py",
   "mimetype": "text/x-python",
   "name": "python",
   "nbconvert_exporter": "python",
   "pygments_lexer": "ipython3",
   "version": "3.12.7"
  }
 },
 "nbformat": 4,
 "nbformat_minor": 5
}
