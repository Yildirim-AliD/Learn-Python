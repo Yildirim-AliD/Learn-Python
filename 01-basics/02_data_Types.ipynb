{
 "cells": [
  {
   "cell_type": "code",
   "execution_count": 3,
   "id": "1f771d98-b68d-48bb-aa9d-1f6875d3d734",
   "metadata": {},
   "outputs": [
    {
     "name": "stdout",
     "output_type": "stream",
     "text": [
      "age: 23 <class 'int'>\n",
      "height: 1.75 <class 'float'>\n",
      "z: (2+3j) <class 'complex'>\n"
     ]
    }
   ],
   "source": [
    "age = 23\n",
    "print(\"age:\", age, type(age))\n",
    "\n",
    "height = 1.75\n",
    "print(\"height:\", height,type(height))\n",
    "\n",
    "z = 2 + 3j\n",
    "print(\"z:\", z,type(z))"
   ]
  },
  {
   "cell_type": "code",
   "execution_count": null,
   "id": "5e7d237a-a629-4bfe-a349-41b868e9f8ca",
   "metadata": {},
   "outputs": [],
   "source": [
    "name = \"Ali\"\n",
    "surname = \"Yıldırım\"\n",
    "hello = 'Merhaba'\n",
    "\n",
    "print(name, type(name))\n",
    "print(hello,type(hello))"
   ]
  }
 ],
 "metadata": {
  "kernelspec": {
   "display_name": "Python 3 (ipykernel)",
   "language": "python",
   "name": "python3"
  },
  "language_info": {
   "codemirror_mode": {
    "name": "ipython",
    "version": 3
   },
   "file_extension": ".py",
   "mimetype": "text/x-python",
   "name": "python",
   "nbconvert_exporter": "python",
   "pygments_lexer": "ipython3",
   "version": "3.12.7"
  }
 },
 "nbformat": 4,
 "nbformat_minor": 5
}
