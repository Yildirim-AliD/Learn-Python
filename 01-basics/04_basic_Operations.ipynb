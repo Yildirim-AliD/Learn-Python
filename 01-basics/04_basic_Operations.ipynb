{
 "cells": [
  {
   "cell_type": "code",
   "execution_count": 1,
   "id": "5e6f3188-5c15-4ec6-813e-4b913e2e4faf",
   "metadata": {},
   "outputs": [
    {
     "name": "stdout",
     "output_type": "stream",
     "text": [
      "a + b = 13\n",
      "a - b = 7\n",
      "a * b = 30\n",
      "a / b = 3.3333333333333335\n",
      "a // b = 3\n",
      "a % b = 1\n",
      "a ** b = 1000\n"
     ]
    }
   ],
   "source": [
    "a = 10\n",
    "b = 3\n",
    "\n",
    "print(\"a + b =\", a + b)      \n",
    "print(\"a - b =\", a - b)      \n",
    "print(\"a * b =\", a * b)      \n",
    "print(\"a / b =\", a / b)      \n",
    "\n",
    "print(\"a // b =\", a // b)   \n",
    "print(\"a % b =\", a % b)     \n",
    "\n",
    "print(\"a ** b =\", a ** b)    "
   ]
  },
  {
   "cell_type": "code",
   "execution_count": 3,
   "id": "18ea29f0-a753-4cd9-8e59-14071a6d0fa7",
   "metadata": {},
   "outputs": [
    {
     "name": "stdout",
     "output_type": "stream",
     "text": [
      "x == y: False\n",
      "x != y: True\n",
      "x > y: False\n",
      "x < y: True\n",
      "x >= y: False\n",
      "x <= y: True\n"
     ]
    }
   ],
   "source": [
    "x = 5\n",
    "y = 10\n",
    "\n",
    "print(\"x == y:\", x == y)    \n",
    "print(\"x != y:\", x != y)    \n",
    "print(\"x > y:\", x > y)      \n",
    "print(\"x < y:\", x < y)     \n",
    "print(\"x >= y:\", x >= y)    \n",
    "print(\"x <= y:\", x <= y)    "
   ]
  },
  {
   "cell_type": "code",
   "execution_count": 5,
   "id": "24e07153-844e-4c13-902e-42e272b11553",
   "metadata": {},
   "outputs": [
    {
     "name": "stdout",
     "output_type": "stream",
     "text": [
      "p and q: False\n",
      "p or q: True\n",
      "not p: False\n"
     ]
    }
   ],
   "source": [
    "p = True\n",
    "q = False\n",
    "\n",
    "print(\"p and q:\", p and q)  \n",
    "print(\"p or q:\", p or q)   \n",
    "print(\"not p:\", not p)    "
   ]
  },
  {
   "cell_type": "code",
   "execution_count": 7,
   "id": "63c8da0d-6925-4f03-8d94-b82307fcb783",
   "metadata": {},
   "outputs": [
    {
     "name": "stdout",
     "output_type": "stream",
     "text": [
      "Is num divisible by 5? True\n",
      "Is num > 10 and num < 20? True\n",
      "Is num between 0 and 100? True\n"
     ]
    }
   ],
   "source": [
    "num = 15\n",
    "\n",
    "print(\"Is num divisible by 5?\", num % 5 == 0)\n",
    "print(\"Is num > 10 and num < 20?\", num > 10 and num < 20)\n",
    "print(\"Is num between 0 and 100?\", 0 <= num < 100)"
   ]
  },
  {
   "cell_type": "code",
   "execution_count": null,
   "id": "4eb3b335-21c1-4bee-9064-8dd822457b3a",
   "metadata": {},
   "outputs": [],
   "source": []
  }
 ],
 "metadata": {
  "kernelspec": {
   "display_name": "Python 3 (ipykernel)",
   "language": "python",
   "name": "python3"
  },
  "language_info": {
   "codemirror_mode": {
    "name": "ipython",
    "version": 3
   },
   "file_extension": ".py",
   "mimetype": "text/x-python",
   "name": "python",
   "nbconvert_exporter": "python",
   "pygments_lexer": "ipython3",
   "version": "3.12.7"
  }
 },
 "nbformat": 4,
 "nbformat_minor": 5
}
