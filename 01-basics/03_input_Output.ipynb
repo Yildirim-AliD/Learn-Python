{
 "cells": [
  {
   "cell_type": "code",
   "execution_count": 3,
   "id": "5c65ea6e-88b5-42ed-bff8-97f631c08f27",
   "metadata": {},
   "outputs": [
    {
     "name": "stdout",
     "output_type": "stream",
     "text": [
      "Hello, Python!\n",
      "Number: 42\n",
      "Addition: 15\n"
     ]
    }
   ],
   "source": [
    "print(\"Hello, Python!\")\n",
    "print(\"Number:\", 42)\n",
    "print(\"Addition:\", 10 + 5)"
   ]
  },
  {
   "cell_type": "code",
   "execution_count": 5,
   "id": "5419ab10-4f2f-4a46-af41-f4f820c4855e",
   "metadata": {},
   "outputs": [
    {
     "name": "stdin",
     "output_type": "stream",
     "text": [
      "Enter your name:  Ali\n"
     ]
    },
    {
     "name": "stdout",
     "output_type": "stream",
     "text": [
      "Hello, Ali\n"
     ]
    }
   ],
   "source": [
    "name = input(\"Enter your name: \")\n",
    "print(\"Hello,\", name)"
   ]
  },
  {
   "cell_type": "code",
   "execution_count": 7,
   "id": "fdf2280d-5f53-4e59-859e-50f79e774a41",
   "metadata": {},
   "outputs": [
    {
     "name": "stdin",
     "output_type": "stream",
     "text": [
      "Enter your age:  23\n"
     ]
    },
    {
     "name": "stdout",
     "output_type": "stream",
     "text": [
      "Your age (string): 23\n",
      "Your age (int): 23\n"
     ]
    },
    {
     "name": "stdin",
     "output_type": "stream",
     "text": [
      "Enter your age again:  23\n"
     ]
    },
    {
     "name": "stdout",
     "output_type": "stream",
     "text": [
      "Your age: 23\n"
     ]
    }
   ],
   "source": [
    "age = input(\"Enter your age: \")\n",
    "print(\"Your age (string):\", age)\n",
    "print(\"Your age (int):\", int(age))\n",
    "\n",
    "age = int(input(\"Enter your age again: \"))\n",
    "print(\"Your age:\", age)\n"
   ]
  },
  {
   "cell_type": "code",
   "execution_count": 9,
   "id": "3e5c4a2e-7e5e-4293-b58f-a03d542cd950",
   "metadata": {},
   "outputs": [
    {
     "name": "stdin",
     "output_type": "stream",
     "text": [
      "Enter your height in meters:  000\n"
     ]
    },
    {
     "name": "stdout",
     "output_type": "stream",
     "text": [
      "Your height: 0.0 meters\n"
     ]
    }
   ],
   "source": [
    "height = float(input(\"Enter your height in meters: \"))\n",
    "print(\"Your height:\", height, \"meters\")"
   ]
  },
  {
   "cell_type": "code",
   "execution_count": 11,
   "id": "70165fc9-1556-4a8f-a251-970a59ae0ffb",
   "metadata": {},
   "outputs": [
    {
     "name": "stdout",
     "output_type": "stream",
     "text": [
      "Name: Ali Age: 23\n",
      "Name: Ali, Age: 23\n",
      "Name: Ali, Age: 23\n"
     ]
    }
   ],
   "source": [
    "name = \"Ali\"\n",
    "age = 23\n",
    "print(\"Name:\", name, \"Age:\", age)\n",
    "\n",
    "print(f\"Name: {name}, Age: {age}\")\n",
    "\n",
    "print(\"Name: {}, Age: {}\".format(name, age))\n"
   ]
  },
  {
   "cell_type": "code",
   "execution_count": 13,
   "id": "48e8b5ef-4bae-403e-928f-3a218098d85e",
   "metadata": {},
   "outputs": [
    {
     "name": "stdin",
     "output_type": "stream",
     "text": [
      "Enter the first number:  21\n",
      "Enter the second number:  2\n"
     ]
    },
    {
     "name": "stdout",
     "output_type": "stream",
     "text": [
      "21 + 2 = 23\n"
     ]
    }
   ],
   "source": [
    "num1 = int(input(\"Enter the first number: \"))\n",
    "num2 = int(input(\"Enter the second number: \"))\n",
    "total = num1 + num2\n",
    "print(f\"{num1} + {num2} = {total}\")"
   ]
  },
  {
   "cell_type": "code",
   "execution_count": null,
   "id": "6a56e94a-331b-4130-9be8-16c131a5e239",
   "metadata": {},
   "outputs": [],
   "source": []
  }
 ],
 "metadata": {
  "kernelspec": {
   "display_name": "Python 3 (ipykernel)",
   "language": "python",
   "name": "python3"
  },
  "language_info": {
   "codemirror_mode": {
    "name": "ipython",
    "version": 3
   },
   "file_extension": ".py",
   "mimetype": "text/x-python",
   "name": "python",
   "nbconvert_exporter": "python",
   "pygments_lexer": "ipython3",
   "version": "3.12.7"
  }
 },
 "nbformat": 4,
 "nbformat_minor": 5
}
