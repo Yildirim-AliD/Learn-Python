{
 "cells": [
  {
   "cell_type": "code",
   "execution_count": 15,
   "id": "28d88d8f-f934-4040-9174-4ccec516540b",
   "metadata": {},
   "outputs": [
    {
     "name": "stdout",
     "output_type": "stream",
     "text": [
      "2020\n",
      "Driven 50 miles. Total: 50 miles.\n",
      "2020\n",
      "Distance must be positive.\n"
     ]
    }
   ],
   "source": [
    "class Car:\n",
    "    def __init__(self, make: str, model: str, year: int):\n",
    "        self.make = make\n",
    "        self.model = model\n",
    "        self.year = year\n",
    "        self.odometer = 0 \n",
    "\n",
    "    def drive(self, distance: int):\n",
    "        if distance > 0:\n",
    "            self.odometer += distance\n",
    "            print(f\"Driven {distance} miles. Total: {self.odometer} miles.\")\n",
    "        else:\n",
    "            print(\"Distance must be positive.\")\n",
    "\n",
    "    def display_info(self):\n",
    "        print(f\"{self.year}\")\n",
    "\n",
    "car1 = Car(\"Toyota\", \"Corolla\", 2020)\n",
    "car2 = Car(\"Ford\", \"Mustang\", 1968)\n",
    "\n",
    "car1.display_info()\n",
    "car1.drive(50)\n",
    "car1.display_info()\n",
    "\n",
    "car2.drive(-10)"
   ]
  },
  {
   "cell_type": "code",
   "execution_count": 17,
   "id": "6498b426-4e70-4571-94ca-a100c118f84e",
   "metadata": {},
   "outputs": [
    {
     "name": "stdout",
     "output_type": "stream",
     "text": [
      "Odometer reset to zero.\n",
      "2020\n"
     ]
    }
   ],
   "source": [
    "def reset_odometer(self):\n",
    "    self.odometer = 0\n",
    "    print(\"Odometer reset to zero.\")\n",
    "\n",
    "Car.reset_odometer = reset_odometer\n",
    "\n",
    "car1.reset_odometer()\n",
    "car1.display_info()"
   ]
  },
  {
   "cell_type": "code",
   "execution_count": null,
   "id": "5ffa6e11-ef47-427f-9bdc-072c6d5e9e5e",
   "metadata": {},
   "outputs": [],
   "source": []
  }
 ],
 "metadata": {
  "kernelspec": {
   "display_name": "Python 3 (ipykernel)",
   "language": "python",
   "name": "python3"
  },
  "language_info": {
   "codemirror_mode": {
    "name": "ipython",
    "version": 3
   },
   "file_extension": ".py",
   "mimetype": "text/x-python",
   "name": "python",
   "nbconvert_exporter": "python",
   "pygments_lexer": "ipython3",
   "version": "3.12.7"
  }
 },
 "nbformat": 4,
 "nbformat_minor": 5
}
