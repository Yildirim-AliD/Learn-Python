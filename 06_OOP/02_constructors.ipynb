{
 "cells": [
  {
   "cell_type": "code",
   "execution_count": 1,
   "id": "613e9c13-6092-4e48-9426-35fde85f1b9c",
   "metadata": {},
   "outputs": [
    {
     "name": "stdout",
     "output_type": "stream",
     "text": [
      "101: Alice Smith — GPA: 0.00\n",
      "GPA updated to 3.80\n",
      "101: Alice Smith — GPA: 3.80\n",
      "Invalid GPA: must be between 0.0 and 4.0.\n"
     ]
    }
   ],
   "source": [
    "class Student:\n",
    "    def __init__(self, first_name: str, last_name: str, student_id: int, gpa: float = 0.0):\n",
    "        self.first_name = first_name\n",
    "        self.last_name = last_name\n",
    "        self.student_id = student_id\n",
    "        self.gpa = gpa\n",
    "\n",
    "    def display_info(self):\n",
    "        print(f\"{self.student_id}: {self.first_name} {self.last_name} — GPA: {self.gpa:.2f}\")\n",
    "\n",
    "    def update_gpa(self, new_gpa: float):\n",
    "        if 0.0 <= new_gpa <= 4.0:\n",
    "            self.gpa = new_gpa\n",
    "            print(f\"GPA updated to {self.gpa:.2f}\")\n",
    "        else:\n",
    "            print(\"Invalid GPA: must be between 0.0 and 4.0.\")\n",
    "\n",
    "s1 = Student(\"Alice\", \"Smith\", 101)\n",
    "s2 = Student(\"Bob\", \"Johnson\", 102, 3.5)\n",
    "\n",
    "s1.display_info()\n",
    "s1.update_gpa(3.8)\n",
    "s1.display_info()\n",
    "s2.update_gpa(4.5)  \n"
   ]
  },
  {
   "cell_type": "code",
   "execution_count": null,
   "id": "8bb4dad1-70aa-4738-8a24-3d9cc9e75cdf",
   "metadata": {},
   "outputs": [],
   "source": []
  }
 ],
 "metadata": {
  "kernelspec": {
   "display_name": "Python 3 (ipykernel)",
   "language": "python",
   "name": "python3"
  },
  "language_info": {
   "codemirror_mode": {
    "name": "ipython",
    "version": 3
   },
   "file_extension": ".py",
   "mimetype": "text/x-python",
   "name": "python",
   "nbconvert_exporter": "python",
   "pygments_lexer": "ipython3",
   "version": "3.12.7"
  }
 },
 "nbformat": 4,
 "nbformat_minor": 5
}
