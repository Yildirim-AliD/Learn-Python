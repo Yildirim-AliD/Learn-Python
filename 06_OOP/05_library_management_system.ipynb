{
 "cells": [
  {
   "cell_type": "code",
   "execution_count": 1,
   "id": "0c5e9912-6da4-43c6-a6dd-d64fae8c3b28",
   "metadata": {},
   "outputs": [],
   "source": [
    "class Book:\n",
    "    def __init__(self, title, author, isbn):\n",
    "        self.title = title\n",
    "        self.author = author\n",
    "        self.isbn = isbn\n",
    "        self.available = True\n",
    "\n",
    "class Member:\n",
    "    def __init__(self, member_id, name):\n",
    "        self.member_id = member_id\n",
    "        self.name = name\n",
    "        self.borrowed = []\n",
    "\n",
    "    def borrow(self, book):\n",
    "        if book.available:\n",
    "            self.borrowed.append(book)\n",
    "            book.available = False\n",
    "            print(f\"{self.name} borrowed '{book.title}'\")\n",
    "        else:\n",
    "            print(f\"Sorry, '{book.title}' is not available!\")\n",
    "\n",
    "    def return_book(self, book):\n",
    "        if book in self.borrowed:\n",
    "            self.borrowed.remove(book)\n",
    "            book.available = True\n",
    "            print(f\"{self.name} returned '{book.title}'\")\n",
    "        else:\n",
    "            print(f\"{self.name} did not borrow '{book.title}'\")"
   ]
  },
  {
   "cell_type": "code",
   "execution_count": 3,
   "id": "67b054ba-28ba-4550-8be9-218b397494b1",
   "metadata": {},
   "outputs": [
    {
     "name": "stdout",
     "output_type": "stream",
     "text": [
      "John Doe borrowed '1984'\n",
      "Sorry, '1984' is not available!\n",
      "John Doe returned '1984'\n",
      "John Doe did not borrow '1984'\n"
     ]
    }
   ],
   "source": [
    "book1 = Book(\"1984\", \"George Orwell\", \"1234567890\")\n",
    "member1 = Member(1, \"John Doe\")\n",
    "\n",
    "member1.borrow(book1)   \n",
    "member1.borrow(book1)   \n",
    "member1.return_book(book1)  \n",
    "member1.return_book(book1)  "
   ]
  },
  {
   "cell_type": "code",
   "execution_count": null,
   "id": "dbea63ee-b51d-459f-b94b-dc486361fd21",
   "metadata": {},
   "outputs": [],
   "source": []
  }
 ],
 "metadata": {
  "kernelspec": {
   "display_name": "Python 3 (ipykernel)",
   "language": "python",
   "name": "python3"
  },
  "language_info": {
   "codemirror_mode": {
    "name": "ipython",
    "version": 3
   },
   "file_extension": ".py",
   "mimetype": "text/x-python",
   "name": "python",
   "nbconvert_exporter": "python",
   "pygments_lexer": "ipython3",
   "version": "3.12.7"
  }
 },
 "nbformat": 4,
 "nbformat_minor": 5
}
