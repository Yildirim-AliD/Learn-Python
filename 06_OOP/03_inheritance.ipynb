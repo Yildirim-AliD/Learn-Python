{
 "cells": [
  {
   "cell_type": "code",
   "execution_count": 1,
   "id": "98a36b9d-3ba6-4886-b1bb-0a084352adf2",
   "metadata": {},
   "outputs": [],
   "source": [
    "class Animal:\n",
    "    def __init__(self, name: str):\n",
    "        self.name = name\n",
    "\n",
    "    def speak(self):\n",
    "        return \"Some generic sound\"\n",
    "\n",
    "    def info(self):\n",
    "        print(f\"I am {self.name}, and I say '{self.speak()}'\")"
   ]
  },
  {
   "cell_type": "code",
   "execution_count": 3,
   "id": "0b714cf6-7d3b-4ca7-abe3-9d1cf9457b5b",
   "metadata": {},
   "outputs": [],
   "source": [
    "class Dog(Animal):\n",
    "    def __init__(self, name: str, breed: str):\n",
    "        super().__init__(name)\n",
    "        self.breed = breed\n",
    "\n",
    "    def speak(self):\n",
    "        return \"Woof!\"\n",
    "\n",
    "class Cat(Animal):\n",
    "    def speak(self):\n",
    "        return \"Meow!\"\n",
    "\n",
    "class Bird(Animal):\n",
    "    def __init__(self, name: str, can_fly: bool = True):\n",
    "        super().__init__(name)\n",
    "        self.can_fly = can_fly\n",
    "\n",
    "    def speak(self):\n",
    "        return \"Tweet!\""
   ]
  },
  {
   "cell_type": "code",
   "execution_count": 7,
   "id": "010318fa-15c4-44a7-a2b3-c4870aa6140b",
   "metadata": {},
   "outputs": [
    {
     "name": "stdout",
     "output_type": "stream",
     "text": [
      "I am Rex, and I say 'Woof!'\n",
      "  Breed: German Shepherd\n",
      "I am Recai, and I say 'Meow!'\n",
      "I am Tarçın, and I say 'Tweet!'\n",
      "  Can fly? No\n"
     ]
    }
   ],
   "source": [
    "dog = Dog(\"Rex\", \"German Shepherd\")\n",
    "cat = Cat(\"Recai\")\n",
    "bird = Bird(\"Tarçın\", can_fly=False)\n",
    "\n",
    "for pet in [dog, cat, bird]:\n",
    "    pet.info()\n",
    "    if hasattr(pet, 'breed'):\n",
    "        print(f\"  Breed: {pet.breed}\")\n",
    "    if isinstance(pet, Bird):\n",
    "        print(f\"  Can fly? {'Yes' if pet.can_fly else 'No'}\")"
   ]
  },
  {
   "cell_type": "code",
   "execution_count": null,
   "id": "46637921-ec22-4d79-b10d-2e00d30be5e0",
   "metadata": {},
   "outputs": [],
   "source": []
  }
 ],
 "metadata": {
  "kernelspec": {
   "display_name": "Python 3 (ipykernel)",
   "language": "python",
   "name": "python3"
  },
  "language_info": {
   "codemirror_mode": {
    "name": "ipython",
    "version": 3
   },
   "file_extension": ".py",
   "mimetype": "text/x-python",
   "name": "python",
   "nbconvert_exporter": "python",
   "pygments_lexer": "ipython3",
   "version": "3.12.7"
  }
 },
 "nbformat": 4,
 "nbformat_minor": 5
}
