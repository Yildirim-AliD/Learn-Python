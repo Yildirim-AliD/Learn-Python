{
 "cells": [
  {
   "cell_type": "code",
   "execution_count": 17,
   "id": "f211dff5-7051-480d-b0dc-6a220a16123d",
   "metadata": {},
   "outputs": [
    {
     "name": "stdout",
     "output_type": "stream",
     "text": [
      "Original list: [10, 20, 30, 40, 50]\n"
     ]
    }
   ],
   "source": [
    "numbers = [10, 20, 30, 40, 50]\n",
    "print(\"Original list:\", numbers)"
   ]
  },
  {
   "cell_type": "code",
   "execution_count": 19,
   "id": "f6161a74-1775-4ff5-9909-455869168103",
   "metadata": {},
   "outputs": [
    {
     "name": "stdout",
     "output_type": "stream",
     "text": [
      "First item: 10\n",
      "Last item: 50\n",
      "Middle items: [20, 30, 40]\n"
     ]
    }
   ],
   "source": [
    "print(\"First item:\", numbers[0])\n",
    "print(\"Last item:\", numbers[-1])\n",
    "print(\"Middle items:\", numbers[1:4])"
   ]
  },
  {
   "cell_type": "code",
   "execution_count": 21,
   "id": "694e1c9a-bfaf-4145-bb1e-976a09eda06b",
   "metadata": {},
   "outputs": [
    {
     "name": "stdout",
     "output_type": "stream",
     "text": [
      "Modified list: [10, 20, 35, 40, 50]\n"
     ]
    }
   ],
   "source": [
    "numbers[2] = 35\n",
    "print(\"Modified list:\", numbers)"
   ]
  },
  {
   "cell_type": "code",
   "execution_count": 23,
   "id": "bfee9402-8d7e-4011-86d5-17e306b29f3a",
   "metadata": {},
   "outputs": [
    {
     "name": "stdout",
     "output_type": "stream",
     "text": [
      "After appending & inserting: [10, 20, 25, 35, 40, 50, 60]\n"
     ]
    }
   ],
   "source": [
    "numbers.append(60)\n",
    "numbers.insert(2, 25)\n",
    "print(\"After appending & inserting:\", numbers)"
   ]
  },
  {
   "cell_type": "code",
   "execution_count": 25,
   "id": "604d3222-c7a1-43cb-861a-3e1459259036",
   "metadata": {},
   "outputs": [
    {
     "name": "stdout",
     "output_type": "stream",
     "text": [
      "After removing & popping: [10, 20, 25, 35, 50] | Popped item: 60\n"
     ]
    }
   ],
   "source": [
    "numbers.remove(40)\n",
    "popped = numbers.pop()  \n",
    "print(\"After removing & popping:\", numbers, \"| Popped item:\", popped)"
   ]
  },
  {
   "cell_type": "code",
   "execution_count": 27,
   "id": "85ef6f84-18ef-499f-a365-753891fbe78e",
   "metadata": {},
   "outputs": [
    {
     "name": "stdout",
     "output_type": "stream",
     "text": [
      "Is 25 in list? True\n"
     ]
    }
   ],
   "source": [
    "print(\"Is 25 in list?\", 25 in numbers)"
   ]
  },
  {
   "cell_type": "code",
   "execution_count": 29,
   "id": "a84ef5de-5de9-4c93-bfef-160358b85752",
   "metadata": {},
   "outputs": [
    {
     "name": "stdout",
     "output_type": "stream",
     "text": [
      "Sorted list: [10, 20, 25, 35, 50]\n"
     ]
    }
   ],
   "source": [
    "numbers.sort()\n",
    "print(\"Sorted list:\", numbers)"
   ]
  },
  {
   "cell_type": "code",
   "execution_count": 31,
   "id": "d5ba3eaf-e3f4-4f79-8513-4cc2a2068a04",
   "metadata": {},
   "outputs": [
    {
     "name": "stdout",
     "output_type": "stream",
     "text": [
      "Even numbers using list comprehension: [0, 2, 4, 6, 8, 10, 12, 14, 16, 18]\n"
     ]
    }
   ],
   "source": [
    "evens = [x for x in range(20) if x % 2 == 0]\n",
    "print(\"Even numbers using list comprehension:\", evens)"
   ]
  },
  {
   "cell_type": "code",
   "execution_count": 33,
   "id": "bb788590-d906-4485-b1ac-8dfcda11a857",
   "metadata": {},
   "outputs": [
    {
     "name": "stdout",
     "output_type": "stream",
     "text": [
      "Matrix row 1: [1, 2, 3]\n",
      "Element at row 2, col 3: 6\n"
     ]
    }
   ],
   "source": [
    "matrix = [\n",
    "    [1, 2, 3],\n",
    "    [4, 5, 6],\n",
    "    [7, 8, 9]\n",
    "]\n",
    "print(\"Matrix row 1:\", matrix[0])\n",
    "print(\"Element at row 2, col 3:\", matrix[1][2])"
   ]
  },
  {
   "cell_type": "code",
   "execution_count": null,
   "id": "ccc7beeb-48b3-48cb-b3bc-8fbd8b194360",
   "metadata": {},
   "outputs": [],
   "source": []
  }
 ],
 "metadata": {
  "kernelspec": {
   "display_name": "Python 3 (ipykernel)",
   "language": "python",
   "name": "python3"
  },
  "language_info": {
   "codemirror_mode": {
    "name": "ipython",
    "version": 3
   },
   "file_extension": ".py",
   "mimetype": "text/x-python",
   "name": "python",
   "nbconvert_exporter": "python",
   "pygments_lexer": "ipython3",
   "version": "3.12.7"
  }
 },
 "nbformat": 4,
 "nbformat_minor": 5
}
