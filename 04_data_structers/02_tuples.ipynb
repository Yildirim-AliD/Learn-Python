{
 "cells": [
  {
   "cell_type": "code",
   "execution_count": 2,
   "id": "b16a944e-3cbf-4871-9b04-edb96bf531d7",
   "metadata": {},
   "outputs": [
    {
     "name": "stdout",
     "output_type": "stream",
     "text": [
      "Point coordinates: (3, 4)\n"
     ]
    }
   ],
   "source": [
    "point = (3, 4)\n",
    "print(\"Point coordinates:\", point)"
   ]
  },
  {
   "cell_type": "code",
   "execution_count": 4,
   "id": "085bfd21-c5aa-43a5-99ca-556978397ed5",
   "metadata": {},
   "outputs": [
    {
     "name": "stdout",
     "output_type": "stream",
     "text": [
      "x = 3, y = 4\n"
     ]
    }
   ],
   "source": [
    "x, y = point\n",
    "print(f\"x = {x}, y = {y}\")"
   ]
  },
  {
   "cell_type": "code",
   "execution_count": 6,
   "id": "5a6f31c0-1635-40c8-8ef0-2670cd45f13b",
   "metadata": {},
   "outputs": [
    {
     "name": "stdout",
     "output_type": "stream",
     "text": [
      "Single-element tuple: (42,)\n"
     ]
    }
   ],
   "source": [
    "single = (42,)\n",
    "print(\"Single-element tuple:\", single)"
   ]
  },
  {
   "cell_type": "code",
   "execution_count": 8,
   "id": "89b93d7c-136d-4969-859c-a21700452023",
   "metadata": {},
   "outputs": [
    {
     "name": "stdout",
     "output_type": "stream",
     "text": [
      "RGB colors: ((255, 0, 0), (0, 255, 0), (0, 0, 255))\n"
     ]
    }
   ],
   "source": [
    "rgb = ((255, 0, 0), (0, 255, 0), (0, 0, 255))\n",
    "print(\"RGB colors:\", rgb)"
   ]
  },
  {
   "cell_type": "code",
   "execution_count": 12,
   "id": "b4f3a1eb-f915-42ad-b693-594e1bd608ea",
   "metadata": {},
   "outputs": [
    {
     "name": "stdout",
     "output_type": "stream",
     "text": [
      "Location of 38.4192, 27.1287: İzmir\n"
     ]
    }
   ],
   "source": [
    "locations = {\n",
    "    (38.4192, 27.1287): \"İzmir\",\n",
    "    (51.5074, -0.1278): \"London\"\n",
    "}\n",
    "print(\"Location of 38.4192, 27.1287:\", locations[(38.4192, 27.1287)])"
   ]
  },
  {
   "cell_type": "code",
   "execution_count": 14,
   "id": "0ce2a66e-3e81-4f82-8921-b01252969cb3",
   "metadata": {},
   "outputs": [
    {
     "name": "stdout",
     "output_type": "stream",
     "text": [
      "List to tuple: (1, 2, 3)\n",
      "Tuple back to list: [1, 2, 3]\n"
     ]
    }
   ],
   "source": [
    "my_list = [1, 2, 3]\n",
    "my_tuple = tuple(my_list)\n",
    "print(\"List to tuple:\", my_tuple)\n",
    "\n",
    "new_list = list(my_tuple)\n",
    "print(\"Tuple back to list:\", new_list)"
   ]
  },
  {
   "cell_type": "code",
   "execution_count": null,
   "id": "1d757997-3eb6-4424-bf79-3b23c5261957",
   "metadata": {},
   "outputs": [],
   "source": []
  }
 ],
 "metadata": {
  "kernelspec": {
   "display_name": "Python 3 (ipykernel)",
   "language": "python",
   "name": "python3"
  },
  "language_info": {
   "codemirror_mode": {
    "name": "ipython",
    "version": 3
   },
   "file_extension": ".py",
   "mimetype": "text/x-python",
   "name": "python",
   "nbconvert_exporter": "python",
   "pygments_lexer": "ipython3",
   "version": "3.12.7"
  }
 },
 "nbformat": 4,
 "nbformat_minor": 5
}
