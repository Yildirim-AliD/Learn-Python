{
 "cells": [
  {
   "cell_type": "code",
   "execution_count": 1,
   "id": "818a13d9-4b16-415c-b883-bc581067cece",
   "metadata": {},
   "outputs": [
    {
     "name": "stdout",
     "output_type": "stream",
     "text": [
      "Set with duplicates removed: {1, 2, 3, 4, 5}\n"
     ]
    }
   ],
   "source": [
    "unique_numbers = {1, 2, 3, 3, 4, 4, 5}\n",
    "print(\"Set with duplicates removed:\", unique_numbers)"
   ]
  },
  {
   "cell_type": "code",
   "execution_count": 3,
   "id": "3b2d4520-c58b-4924-baa2-34135c5df609",
   "metadata": {},
   "outputs": [
    {
     "name": "stdout",
     "output_type": "stream",
     "text": [
      "After add and discard: {1, 3, 4, 5, 6}\n"
     ]
    }
   ],
   "source": [
    "unique_numbers.add(6)\n",
    "unique_numbers.discard(2)\n",
    "print(\"After add and discard:\", unique_numbers)"
   ]
  },
  {
   "cell_type": "code",
   "execution_count": 5,
   "id": "a8ff0358-6b4a-4bf8-b94b-e4c1c64a8f1a",
   "metadata": {},
   "outputs": [
    {
     "name": "stdout",
     "output_type": "stream",
     "text": [
      "Union: {1, 2, 3, 4, 5, 6}\n",
      "Intersection: {3, 4}\n",
      "Difference (a - b): {1, 2}\n",
      "Symmetric Difference: {1, 2, 5, 6}\n"
     ]
    }
   ],
   "source": [
    "a = {1, 2, 3, 4}\n",
    "b = {3, 4, 5, 6}\n",
    "\n",
    "print(\"Union:\", a | b)\n",
    "print(\"Intersection:\", a & b)\n",
    "print(\"Difference (a - b):\", a - b)\n",
    "print(\"Symmetric Difference:\", a ^ b)"
   ]
  },
  {
   "cell_type": "code",
   "execution_count": 9,
   "id": "07bd28e1-71da-4076-acf4-f8f825d0916c",
   "metadata": {},
   "outputs": [
    {
     "name": "stdout",
     "output_type": "stream",
     "text": [
      "Is 1 in set a? True\n"
     ]
    }
   ],
   "source": [
    "print(\"Is 1 in set a?\", 1 in a)"
   ]
  },
  {
   "cell_type": "code",
   "execution_count": 13,
   "id": "f95b7530-3456-4e2d-8b34-2006e289a473",
   "metadata": {},
   "outputs": [
    {
     "name": "stdout",
     "output_type": "stream",
     "text": [
      "No duplicates: {1, 2, 3, 4}\n"
     ]
    }
   ],
   "source": [
    "dup_list = [1, 1, 2, 3, 3, 4]\n",
    "no_dup = set(dup_list)\n",
    "print(\"No duplicates:\", no_dup)"
   ]
  },
  {
   "cell_type": "code",
   "execution_count": null,
   "id": "2b9c65a7-0a1c-400a-8c1a-0d20ca5faf3b",
   "metadata": {},
   "outputs": [],
   "source": []
  }
 ],
 "metadata": {
  "kernelspec": {
   "display_name": "Python 3 (ipykernel)",
   "language": "python",
   "name": "python3"
  },
  "language_info": {
   "codemirror_mode": {
    "name": "ipython",
    "version": 3
   },
   "file_extension": ".py",
   "mimetype": "text/x-python",
   "name": "python",
   "nbconvert_exporter": "python",
   "pygments_lexer": "ipython3",
   "version": "3.12.7"
  }
 },
 "nbformat": 4,
 "nbformat_minor": 5
}
