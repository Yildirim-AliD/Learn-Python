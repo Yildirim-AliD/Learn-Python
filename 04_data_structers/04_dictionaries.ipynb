{
 "cells": [
  {
   "cell_type": "code",
   "execution_count": 5,
   "id": "db355d73-14dd-4aa1-aca3-e859fcbbe059",
   "metadata": {},
   "outputs": [
    {
     "name": "stdout",
     "output_type": "stream",
     "text": [
      "Person info: {'name': 'Ali', 'age': 23, 'is_student': True}\n"
     ]
    }
   ],
   "source": [
    "person = {\n",
    "    \"name\": \"Ali\",\n",
    "    \"age\": 23,\n",
    "    \"is_student\": True\n",
    "}\n",
    "print(\"Person info:\", person)"
   ]
  },
  {
   "cell_type": "code",
   "execution_count": 7,
   "id": "1c92faa6-f3c1-4e12-92d3-1ddbb6cb60cb",
   "metadata": {},
   "outputs": [
    {
     "name": "stdout",
     "output_type": "stream",
     "text": [
      "Name: Ali\n",
      "Updated age: 24\n"
     ]
    }
   ],
   "source": [
    "print(\"Name:\", person[\"name\"])\n",
    "person[\"age\"] += 1\n",
    "print(\"Updated age:\", person[\"age\"])"
   ]
  },
  {
   "cell_type": "code",
   "execution_count": 9,
   "id": "9ab698c5-08ec-4608-8e3a-cf5142cfa461",
   "metadata": {},
   "outputs": [],
   "source": [
    "person[\"email\"] = \"yıldırım@example.com\""
   ]
  },
  {
   "cell_type": "code",
   "execution_count": 11,
   "id": "919c2c15-8aea-4a66-863f-15967abad4c7",
   "metadata": {},
   "outputs": [
    {
     "name": "stdout",
     "output_type": "stream",
     "text": [
      "After deletion: {'name': 'Ali', 'age': 24, 'email': 'yıldırım@example.com'}\n"
     ]
    }
   ],
   "source": [
    "del person[\"is_student\"]\n",
    "print(\"After deletion:\", person)"
   ]
  },
  {
   "cell_type": "code",
   "execution_count": 13,
   "id": "9833387b-6a9b-4a94-8159-067d45421a45",
   "metadata": {},
   "outputs": [
    {
     "name": "stdout",
     "output_type": "stream",
     "text": [
      "Phone: Not available\n"
     ]
    }
   ],
   "source": [
    "print(\"Phone:\", person.get(\"phone\", \"Not available\"))"
   ]
  },
  {
   "cell_type": "code",
   "execution_count": 15,
   "id": "fda058ca-5004-4740-b9c8-00737c22c088",
   "metadata": {},
   "outputs": [
    {
     "name": "stdout",
     "output_type": "stream",
     "text": [
      "name → Ali\n",
      "age → 24\n",
      "email → yıldırım@example.com\n"
     ]
    }
   ],
   "source": [
    "for key, value in person.items():\n",
    "    print(f\"{key} → {value}\")"
   ]
  },
  {
   "cell_type": "code",
   "execution_count": 17,
   "id": "3f9c90dc-cfe9-4035-acdd-f1f24012fd6a",
   "metadata": {},
   "outputs": [
    {
     "name": "stdout",
     "output_type": "stream",
     "text": [
      "Keys: ['name', 'age', 'email']\n",
      "Values: ['Ali', 24, 'yıldırım@example.com']\n"
     ]
    }
   ],
   "source": [
    "print(\"Keys:\", list(person.keys()))\n",
    "print(\"Values:\", list(person.values()))"
   ]
  },
  {
   "cell_type": "code",
   "execution_count": 21,
   "id": "948af80c-65f3-4f05-bf55-a2c2ab484cf4",
   "metadata": {},
   "outputs": [
    {
     "name": "stdout",
     "output_type": "stream",
     "text": [
      "Squares dictionary: {0: 0, 1: 1, 2: 4, 3: 9, 4: 16, 5: 25}\n"
     ]
    }
   ],
   "source": [
    "squares = {x: x ** 2 for x in range(6)}\n",
    "print(\"Squares dictionary:\", squares)"
   ]
  },
  {
   "cell_type": "code",
   "execution_count": 23,
   "id": "6adf6bd8-ebba-4190-9843-7e4e526d061e",
   "metadata": {},
   "outputs": [
    {
     "name": "stdout",
     "output_type": "stream",
     "text": [
      "Student 1002's name: Jane\n"
     ]
    }
   ],
   "source": [
    "students = {\n",
    "    \"1001\": {\"name\": \"John\", \"grade\": 85},\n",
    "    \"1002\": {\"name\": \"Jane\", \"grade\": 92}\n",
    "}\n",
    "print(\"Student 1002's name:\", students[\"1002\"][\"name\"])"
   ]
  },
  {
   "cell_type": "code",
   "execution_count": null,
   "id": "9c13345f-2d1e-4d8c-9089-47de44e06334",
   "metadata": {},
   "outputs": [],
   "source": []
  }
 ],
 "metadata": {
  "kernelspec": {
   "display_name": "Python 3 (ipykernel)",
   "language": "python",
   "name": "python3"
  },
  "language_info": {
   "codemirror_mode": {
    "name": "ipython",
    "version": 3
   },
   "file_extension": ".py",
   "mimetype": "text/x-python",
   "name": "python",
   "nbconvert_exporter": "python",
   "pygments_lexer": "ipython3",
   "version": "3.12.7"
  }
 },
 "nbformat": 4,
 "nbformat_minor": 5
}
