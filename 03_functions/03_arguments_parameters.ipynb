{
 "cells": [
  {
   "cell_type": "code",
   "execution_count": 3,
   "id": "f8841abf-b84e-4b28-b7b8-e553a0684fe4",
   "metadata": {},
   "outputs": [
    {
     "name": "stdout",
     "output_type": "stream",
     "text": [
      "I have a dog named Lisa.\n"
     ]
    }
   ],
   "source": [
    "def describe_pet(animal_type, name):\n",
    "    print(f\"I have a {animal_type} named {name}.\")\n",
    "\n",
    "describe_pet(\"dog\", \"Lisa\")"
   ]
  },
  {
   "cell_type": "code",
   "execution_count": 5,
   "id": "46354358-b020-4112-a8d4-372385aadab7",
   "metadata": {},
   "outputs": [
    {
     "name": "stdout",
     "output_type": "stream",
     "text": [
      "I have a cat named Whiskers.\n"
     ]
    }
   ],
   "source": [
    "describe_pet(name=\"Whiskers\", animal_type=\"cat\")"
   ]
  },
  {
   "cell_type": "code",
   "execution_count": 7,
   "id": "ee03d9ed-c431-471b-aa31-ee1958627125",
   "metadata": {},
   "outputs": [
    {
     "name": "stdout",
     "output_type": "stream",
     "text": [
      "Hello, Guest!\n",
      "Hello, Ali!\n"
     ]
    }
   ],
   "source": [
    "def greet(name=\"Guest\"):\n",
    "    print(f\"Hello, {name}!\")\n",
    "\n",
    "greet()\n",
    "greet(\"Ali\")"
   ]
  },
  {
   "cell_type": "code",
   "execution_count": 9,
   "id": "67702de1-7e82-48c1-add4-cab8f1d2eea8",
   "metadata": {},
   "outputs": [
    {
     "name": "stdout",
     "output_type": "stream",
     "text": [
      "6\n",
      "100\n"
     ]
    }
   ],
   "source": [
    "def sum_all(*numbers):\n",
    "    total = 0\n",
    "    for n in numbers:\n",
    "        total += n\n",
    "    return total\n",
    "\n",
    "print(sum_all(1, 2, 3))\n",
    "print(sum_all(10, 20, 30, 40))"
   ]
  },
  {
   "cell_type": "code",
   "execution_count": 13,
   "id": "6efa7a60-750a-40ee-baa4-68d3192f5aee",
   "metadata": {},
   "outputs": [
    {
     "name": "stdout",
     "output_type": "stream",
     "text": [
      "name: Ali\n",
      "age: 23\n",
      "country: Turkey\n"
     ]
    }
   ],
   "source": [
    "def print_user_info(**info):\n",
    "    for key, value in info.items():\n",
    "        print(f\"{key}: {value}\")\n",
    "\n",
    "print_user_info(name=\"Ali\", age=23, country=\"Turkey\")"
   ]
  },
  {
   "cell_type": "code",
   "execution_count": 17,
   "id": "159f26e0-994c-4c36-a3e1-a40a4b769e12",
   "metadata": {},
   "outputs": [
    {
     "name": "stdout",
     "output_type": "stream",
     "text": [
      "User: Ali\n",
      "Skills: Python, Cyber Security\n",
      "Details:\n",
      " - age: 23\n",
      " - city: İzmir\n"
     ]
    }
   ],
   "source": [
    "def user_summary(name, *skills, **details):\n",
    "    print(f\"User: {name}\")\n",
    "    print(\"Skills:\", \", \".join(skills))\n",
    "    print(\"Details:\")\n",
    "    for key, value in details.items():\n",
    "        print(f\" - {key}: {value}\")\n",
    "\n",
    "user_summary(\n",
    "    \"Ali\", \n",
    "    \"Python\", \"Cyber Security\", \n",
    "    age=23, city=\"İzmir\"\n",
    ")"
   ]
  },
  {
   "cell_type": "code",
   "execution_count": null,
   "id": "d9cf28a5-6ca9-4c82-b567-3f439f0a7b0c",
   "metadata": {},
   "outputs": [],
   "source": []
  }
 ],
 "metadata": {
  "kernelspec": {
   "display_name": "Python 3 (ipykernel)",
   "language": "python",
   "name": "python3"
  },
  "language_info": {
   "codemirror_mode": {
    "name": "ipython",
    "version": 3
   },
   "file_extension": ".py",
   "mimetype": "text/x-python",
   "name": "python",
   "nbconvert_exporter": "python",
   "pygments_lexer": "ipython3",
   "version": "3.12.7"
  }
 },
 "nbformat": 4,
 "nbformat_minor": 5
}
