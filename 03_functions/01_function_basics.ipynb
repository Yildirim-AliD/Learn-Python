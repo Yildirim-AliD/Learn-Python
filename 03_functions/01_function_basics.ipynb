{
 "cells": [
  {
   "cell_type": "code",
   "execution_count": 1,
   "id": "ce2d792c-1695-4c6e-a20a-262565be71ec",
   "metadata": {},
   "outputs": [
    {
     "name": "stdout",
     "output_type": "stream",
     "text": [
      "Hello, welcome to Python!\n"
     ]
    }
   ],
   "source": [
    "def greet():\n",
    "    print(\"Hello, welcome to Python!\")\n",
    "\n",
    "greet()"
   ]
  },
  {
   "cell_type": "code",
   "execution_count": 5,
   "id": "9acd8794-8ec1-494b-8a95-4cee8d4aec06",
   "metadata": {},
   "outputs": [
    {
     "name": "stdout",
     "output_type": "stream",
     "text": [
      "Hello, Ali!\n",
      "Hello, Dilan!\n"
     ]
    }
   ],
   "source": [
    "def greet_user(name):\n",
    "    print(f\"Hello, {name}!\")\n",
    "\n",
    "greet_user(\"Ali\")\n",
    "greet_user(\"Dilan\")"
   ]
  },
  {
   "cell_type": "code",
   "execution_count": 7,
   "id": "ed94f72c-2961-4aea-9cc3-237ce2ce1956",
   "metadata": {},
   "outputs": [
    {
     "name": "stdout",
     "output_type": "stream",
     "text": [
      "Full Name: Ali Yıldırım\n"
     ]
    }
   ],
   "source": [
    "def full_name(first, last):\n",
    "    print(f\"Full Name: {first} {last}\")\n",
    "\n",
    "full_name(\"Ali\", \"Yıldırım\")"
   ]
  },
  {
   "cell_type": "code",
   "execution_count": 9,
   "id": "840e94c4-85c0-4aa1-8ecc-19553f09667d",
   "metadata": {},
   "outputs": [
    {
     "name": "stdout",
     "output_type": "stream",
     "text": [
      "7\n",
      "None\n"
     ]
    }
   ],
   "source": [
    "def add(a, b):\n",
    "    return a + b\n",
    "\n",
    "print(add(3, 4))\n",
    "print(add.__doc__)"
   ]
  },
  {
   "cell_type": "code",
   "execution_count": null,
   "id": "e0f14b6f-2783-4a21-aa4a-aea379a99ec9",
   "metadata": {},
   "outputs": [],
   "source": []
  }
 ],
 "metadata": {
  "kernelspec": {
   "display_name": "Python 3 (ipykernel)",
   "language": "python",
   "name": "python3"
  },
  "language_info": {
   "codemirror_mode": {
    "name": "ipython",
    "version": 3
   },
   "file_extension": ".py",
   "mimetype": "text/x-python",
   "name": "python",
   "nbconvert_exporter": "python",
   "pygments_lexer": "ipython3",
   "version": "3.12.7"
  }
 },
 "nbformat": 4,
 "nbformat_minor": 5
}
