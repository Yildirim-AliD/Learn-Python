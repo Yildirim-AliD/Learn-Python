{
 "cells": [
  {
   "cell_type": "code",
   "execution_count": 1,
   "id": "812a3797-03c8-4613-8327-e0aa1f4f140f",
   "metadata": {},
   "outputs": [
    {
     "name": "stdout",
     "output_type": "stream",
     "text": [
      "Square of 5 is 25\n"
     ]
    }
   ],
   "source": [
    "def square(x):\n",
    "    return x ** 2\n",
    "\n",
    "result = square(5)\n",
    "print(f\"Square of 5 is {result}\")"
   ]
  },
  {
   "cell_type": "code",
   "execution_count": 5,
   "id": "ee832d25-6034-4ca6-9c80-69efc390f9d7",
   "metadata": {},
   "outputs": [
    {
     "name": "stdout",
     "output_type": "stream",
     "text": [
      "Sum: 14, Difference: 6\n"
     ]
    }
   ],
   "source": [
    "def calculate(a, b):\n",
    "    sum_ = a + b\n",
    "    diff = a - b\n",
    "    return sum_, diff\n",
    "\n",
    "s, d = calculate(10, 4)\n",
    "print(f\"Sum: {s}, Difference: {d}\")"
   ]
  },
  {
   "cell_type": "code",
   "execution_count": 7,
   "id": "20c815c0-7680-42e2-8140-acf474d13155",
   "metadata": {},
   "outputs": [
    {
     "name": "stdout",
     "output_type": "stream",
     "text": [
      "True\n",
      "False\n"
     ]
    }
   ],
   "source": [
    "def is_even(n):\n",
    "    if n % 2 == 0:\n",
    "        return True\n",
    "    return False\n",
    "\n",
    "print(is_even(10))  \n",
    "print(is_even(7))   "
   ]
  },
  {
   "cell_type": "code",
   "execution_count": 9,
   "id": "b9e89e86-3586-42f6-83b4-7076b7e969e8",
   "metadata": {},
   "outputs": [
    {
     "name": "stdout",
     "output_type": "stream",
     "text": [
      "B\n"
     ]
    }
   ],
   "source": [
    "def grade_result(score):\n",
    "    if score >= 90:\n",
    "        return \"A\"\n",
    "    elif score >= 80:\n",
    "        return \"B\"\n",
    "    elif score >= 70:\n",
    "        return \"C\"\n",
    "    else:\n",
    "        return \"F\"\n",
    "\n",
    "print(grade_result(85))"
   ]
  },
  {
   "cell_type": "code",
   "execution_count": null,
   "id": "70c14aac-2f30-4d60-b9ce-ae6c589aad37",
   "metadata": {},
   "outputs": [],
   "source": []
  }
 ],
 "metadata": {
  "kernelspec": {
   "display_name": "Python 3 (ipykernel)",
   "language": "python",
   "name": "python3"
  },
  "language_info": {
   "codemirror_mode": {
    "name": "ipython",
    "version": 3
   },
   "file_extension": ".py",
   "mimetype": "text/x-python",
   "name": "python",
   "nbconvert_exporter": "python",
   "pygments_lexer": "ipython3",
   "version": "3.12.7"
  }
 },
 "nbformat": 4,
 "nbformat_minor": 5
}
