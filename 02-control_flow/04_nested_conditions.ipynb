{
 "cells": [
  {
   "cell_type": "code",
   "execution_count": 1,
   "id": "de6229cb-606c-4839-b22e-d66aef52a622",
   "metadata": {},
   "outputs": [
    {
     "name": "stdout",
     "output_type": "stream",
     "text": [
      "You passed the course\n"
     ]
    }
   ],
   "source": [
    "grade = 70\n",
    "absences = 5\n",
    "\n",
    "if grade >= 50:\n",
    "    if absences <= 10:\n",
    "        print(\"You passed the course\")\n",
    "    else:\n",
    "        print(\"Failed due to attendance\")\n",
    "else:\n",
    "    print(\"Failed due to low grade\")"
   ]
  },
  {
   "cell_type": "code",
   "execution_count": 3,
   "id": "ee05cad3-4ef5-42e3-807a-35091a2a72e6",
   "metadata": {},
   "outputs": [
    {
     "name": "stdin",
     "output_type": "stream",
     "text": [
      "Enter username:  admin\n",
      "Enter password:  12345\n"
     ]
    },
    {
     "name": "stdout",
     "output_type": "stream",
     "text": [
      "Login successful\n"
     ]
    }
   ],
   "source": [
    "username = \"admin\"\n",
    "password = \"12345\"\n",
    "\n",
    "input_username = input(\"Enter username: \")\n",
    "input_password = input(\"Enter password: \")\n",
    "\n",
    "if input_username == username:\n",
    "    if input_password == password:\n",
    "        print(\"Login successful\")\n",
    "    else:\n",
    "        print(\"Incorrect password\")\n",
    "else:\n",
    "    print(\"Username not found\")"
   ]
  },
  {
   "cell_type": "code",
   "execution_count": 5,
   "id": "52832ad6-69ab-462c-a335-61021a674b8b",
   "metadata": {},
   "outputs": [
    {
     "name": "stdout",
     "output_type": "stream",
     "text": [
      "No driver's license\n"
     ]
    }
   ],
   "source": [
    "age = 23\n",
    "has_license = False\n",
    "has_alcohol = True\n",
    "\n",
    "if age >= 18:\n",
    "    if has_license and not has_alcohol:\n",
    "        print(\"You can drive\")\n",
    "    elif has_license and has_alcohol:\n",
    "        print(\"Cannot drive due to alcohol consumption\")\n",
    "    else:\n",
    "        print(\"No driver's license\")\n",
    "else:\n",
    "    print(\"Too young to drive\")"
   ]
  },
  {
   "cell_type": "code",
   "execution_count": 7,
   "id": "f6b23f8b-1fdb-4659-b511-9ac8cc7f2bac",
   "metadata": {},
   "outputs": [
    {
     "name": "stdout",
     "output_type": "stream",
     "text": [
      "Passed\n",
      "Failed due to grade\n",
      "Failed due to attendance\n"
     ]
    }
   ],
   "source": [
    "def exam_result(grade, absences):\n",
    "    if grade >= 50:\n",
    "        if absences <= 10:\n",
    "            return \"Passed\"\n",
    "        else:\n",
    "            return \"Failed due to attendance\"\n",
    "    else:\n",
    "        return \"Failed due to grade\"\n",
    "\n",
    "print(exam_result(60, 8))\n",
    "print(exam_result(40, 8))\n",
    "print(exam_result(60, 15))"
   ]
  },
  {
   "cell_type": "code",
   "execution_count": null,
   "id": "7f0a1d02-bd01-494a-8395-01fdbad06e84",
   "metadata": {},
   "outputs": [],
   "source": []
  }
 ],
 "metadata": {
  "kernelspec": {
   "display_name": "Python 3 (ipykernel)",
   "language": "python",
   "name": "python3"
  },
  "language_info": {
   "codemirror_mode": {
    "name": "ipython",
    "version": 3
   },
   "file_extension": ".py",
   "mimetype": "text/x-python",
   "name": "python",
   "nbconvert_exporter": "python",
   "pygments_lexer": "ipython3",
   "version": "3.12.7"
  }
 },
 "nbformat": 4,
 "nbformat_minor": 5
}
