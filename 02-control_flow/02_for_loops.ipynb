{
 "cells": [
  {
   "cell_type": "code",
   "execution_count": 1,
   "id": "5540c037-ce4a-4457-8b04-8cb445c1e10d",
   "metadata": {},
   "outputs": [
    {
     "name": "stdout",
     "output_type": "stream",
     "text": [
      "Numbers from 1 to 5:\n",
      "1\n",
      "2\n",
      "3\n",
      "4\n",
      "5\n"
     ]
    }
   ],
   "source": [
    "print(\"Numbers from 1 to 5:\")\n",
    "for i in range(1, 6):\n",
    "    print(i)"
   ]
  },
  {
   "cell_type": "code",
   "execution_count": 3,
   "id": "02635f7e-0023-4145-914a-427d9effad09",
   "metadata": {},
   "outputs": [
    {
     "name": "stdout",
     "output_type": "stream",
     "text": [
      "\n",
      "List of fruits:\n",
      "apple\n",
      "pear\n",
      "banana\n",
      "strawberry\n"
     ]
    }
   ],
   "source": [
    "fruits = [\"apple\", \"pear\", \"banana\", \"strawberry\"]\n",
    "\n",
    "print(\"\\nList of fruits:\")\n",
    "for fruit in fruits:\n",
    "    print(fruit)"
   ]
  },
  {
   "cell_type": "code",
   "execution_count": 5,
   "id": "446468c3-ac38-4cb5-b34f-495707913189",
   "metadata": {},
   "outputs": [
    {
     "name": "stdout",
     "output_type": "stream",
     "text": [
      "\n",
      "Fruits with their indices:\n",
      "0: apple\n",
      "1: pear\n",
      "2: banana\n",
      "3: strawberry\n"
     ]
    }
   ],
   "source": [
    "print(\"\\nFruits with their indices:\")\n",
    "for idx, fruit in enumerate(fruits):\n",
    "    print(f\"{idx}: {fruit}\")"
   ]
  },
  {
   "cell_type": "code",
   "execution_count": 7,
   "id": "6331063b-12dc-4666-8286-53b990123220",
   "metadata": {},
   "outputs": [
    {
     "name": "stdout",
     "output_type": "stream",
     "text": [
      "\n",
      "Break example (stop when 3 is reached):\n",
      "1\n",
      "2\n",
      "\n",
      "Continue example (skip 3):\n",
      "1\n",
      "2\n",
      "4\n",
      "5\n"
     ]
    }
   ],
   "source": [
    "print(\"\\nBreak example (stop when 3 is reached):\")\n",
    "for i in range(1, 6):\n",
    "    if i == 3:\n",
    "        break\n",
    "    print(i)\n",
    "\n",
    "print(\"\\nContinue example (skip 3):\")\n",
    "for i in range(1, 6):\n",
    "    if i == 3:\n",
    "        continue\n",
    "    print(i)"
   ]
  },
  {
   "cell_type": "code",
   "execution_count": 11,
   "id": "c6749a21-4ffd-49a4-a040-77515c398253",
   "metadata": {},
   "outputs": [
    {
     "name": "stdout",
     "output_type": "stream",
     "text": [
      "\n",
      "Dictionary keys and values:\n",
      "name: Ali\n",
      "age: 30\n",
      "city: İzmir\n"
     ]
    }
   ],
   "source": [
    "person = {\"name\": \"Ali\", \"age\": 30, \"city\": \"İzmir\"}\n",
    "\n",
    "print(\"\\nDictionary keys and values:\")\n",
    "for key, value in person.items():\n",
    "    print(f\"{key}: {value}\")"
   ]
  },
  {
   "cell_type": "code",
   "execution_count": 14,
   "id": "103afcbc-bc59-4de8-a6a0-69dcbf775bfb",
   "metadata": {},
   "outputs": [
    {
     "name": "stdout",
     "output_type": "stream",
     "text": [
      "\n",
      "Multiplication table (1 to 3):\n",
      "1 x 1 = 1\n",
      "1 x 2 = 2\n",
      "1 x 3 = 3\n",
      "---\n",
      "2 x 1 = 2\n",
      "2 x 2 = 4\n",
      "2 x 3 = 6\n",
      "---\n",
      "3 x 1 = 3\n",
      "3 x 2 = 6\n",
      "3 x 3 = 9\n",
      "---\n"
     ]
    }
   ],
   "source": [
    "print(\"\\nMultiplication table (1 to 3):\")\n",
    "for i in range(1, 4):\n",
    "    for j in range(1, 4):\n",
    "        print(f\"{i} x {j} = {i*j}\")\n",
    "    print(\"---\")"
   ]
  },
  {
   "cell_type": "code",
   "execution_count": null,
   "id": "d01d31b2-f33a-4021-b480-423cc2f0cd0a",
   "metadata": {},
   "outputs": [],
   "source": []
  }
 ],
 "metadata": {
  "kernelspec": {
   "display_name": "Python 3 (ipykernel)",
   "language": "python",
   "name": "python3"
  },
  "language_info": {
   "codemirror_mode": {
    "name": "ipython",
    "version": 3
   },
   "file_extension": ".py",
   "mimetype": "text/x-python",
   "name": "python",
   "nbconvert_exporter": "python",
   "pygments_lexer": "ipython3",
   "version": "3.12.7"
  }
 },
 "nbformat": 4,
 "nbformat_minor": 5
}
