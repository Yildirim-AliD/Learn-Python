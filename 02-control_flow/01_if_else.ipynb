{
 "cells": [
  {
   "cell_type": "code",
   "execution_count": 1,
   "id": "8701dd92-9edc-492c-8b1a-1748f2056342",
   "metadata": {},
   "outputs": [
    {
     "name": "stdout",
     "output_type": "stream",
     "text": [
      "The number is greater than 5\n"
     ]
    }
   ],
   "source": [
    "number = 7\n",
    "\n",
    "if number > 5:\n",
    "    print(\"The number is greater than 5\")"
   ]
  },
  {
   "cell_type": "code",
   "execution_count": 3,
   "id": "1625a5e7-cccf-45af-9dee-fe96b7e0ac0a",
   "metadata": {},
   "outputs": [
    {
     "name": "stdout",
     "output_type": "stream",
     "text": [
      "The number is 5 or less\n"
     ]
    }
   ],
   "source": [
    "number = 3\n",
    "\n",
    "if number > 5:\n",
    "    print(\"The number is greater than 5\")\n",
    "else:\n",
    "    print(\"The number is 5 or less\")"
   ]
  },
  {
   "cell_type": "code",
   "execution_count": 5,
   "id": "de0464ad-b0a0-4507-a681-4ed7114985b3",
   "metadata": {},
   "outputs": [
    {
     "name": "stdout",
     "output_type": "stream",
     "text": [
      "Your grade: B\n"
     ]
    }
   ],
   "source": [
    "grade = 75\n",
    "\n",
    "if grade >= 85:\n",
    "    print(\"Your grade: A\")\n",
    "elif grade >= 70:\n",
    "    print(\"Your grade: B\")\n",
    "elif grade >= 50:\n",
    "    print(\"Your grade: C\")\n",
    "else:\n",
    "    print(\"Your grade: F\")"
   ]
  },
  {
   "cell_type": "code",
   "execution_count": 9,
   "id": "f56d68f7-1afd-4cf9-8d5a-ae63c17862cc",
   "metadata": {},
   "outputs": [
    {
     "name": "stdout",
     "output_type": "stream",
     "text": [
      "You don't have a driver's license\n"
     ]
    }
   ],
   "source": [
    "age = 20\n",
    "has_license = False\n",
    "\n",
    "if age >= 18:\n",
    "    if has_license:\n",
    "        print(\"You can drive a vehicle\")\n",
    "    else:\n",
    "        print(\"You don't have a driver's license\")\n",
    "else:\n",
    "    print(\"You cannot drive, you are underage\")"
   ]
  },
  {
   "cell_type": "code",
   "execution_count": 11,
   "id": "d63fd533-8f82-470a-be71-5dd6afa266cf",
   "metadata": {},
   "outputs": [
    {
     "name": "stdout",
     "output_type": "stream",
     "text": [
      "x is greater than 10 and y is less than 20\n",
      "Either x is greater than 10 or y is greater than 20\n",
      "x is not equal to 10\n"
     ]
    }
   ],
   "source": [
    "x = 15\n",
    "y = 10\n",
    "\n",
    "if x > 10 and y < 20:\n",
    "    print(\"x is greater than 10 and y is less than 20\")\n",
    "\n",
    "if x > 10 or y > 20:\n",
    "    print(\"Either x is greater than 10 or y is greater than 20\")\n",
    "\n",
    "if not x == 10:\n",
    "    print(\"x is not equal to 10\")"
   ]
  },
  {
   "cell_type": "code",
   "execution_count": 13,
   "id": "494fe1b4-ec78-4c39-84b2-f84b7f6470bf",
   "metadata": {},
   "outputs": [
    {
     "name": "stdout",
     "output_type": "stream",
     "text": [
      "Exam status: Passed\n"
     ]
    }
   ],
   "source": [
    "status = \"Passed\" if grade >= 50 else \"Failed\"\n",
    "print(f\"Exam status: {status}\")"
   ]
  },
  {
   "cell_type": "code",
   "execution_count": null,
   "id": "ec55fce4-69f9-4a2a-ba46-aef81ed14640",
   "metadata": {},
   "outputs": [],
   "source": []
  }
 ],
 "metadata": {
  "kernelspec": {
   "display_name": "Python 3 (ipykernel)",
   "language": "python",
   "name": "python3"
  },
  "language_info": {
   "codemirror_mode": {
    "name": "ipython",
    "version": 3
   },
   "file_extension": ".py",
   "mimetype": "text/x-python",
   "name": "python",
   "nbconvert_exporter": "python",
   "pygments_lexer": "ipython3",
   "version": "3.12.7"
  }
 },
 "nbformat": 4,
 "nbformat_minor": 5
}
