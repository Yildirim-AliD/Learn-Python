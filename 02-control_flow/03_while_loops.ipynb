{
 "cells": [
  {
   "cell_type": "code",
   "execution_count": 1,
   "id": "4743498b-be65-4985-8ab5-2d7df5e895a5",
   "metadata": {},
   "outputs": [
    {
     "name": "stdout",
     "output_type": "stream",
     "text": [
      "Numbers from 0 to 4:\n",
      "0\n",
      "1\n",
      "2\n",
      "3\n",
      "4\n"
     ]
    }
   ],
   "source": [
    "counter = 0\n",
    "print(\"Numbers from 0 to 4:\")\n",
    "while counter < 5:\n",
    "    print(counter)\n",
    "    counter += 1"
   ]
  },
  {
   "cell_type": "code",
   "execution_count": 3,
   "id": "f2bccca5-e174-4330-a034-0ad071e7bbf9",
   "metadata": {},
   "outputs": [
    {
     "name": "stdout",
     "output_type": "stream",
     "text": [
      "Using break to stop loop:\n",
      "0\n",
      "1\n",
      "2\n",
      "3\n",
      "4\n",
      "Loop stopped with break\n"
     ]
    }
   ],
   "source": [
    "print(\"Using break to stop loop:\")\n",
    "counter = 0\n",
    "while True:\n",
    "    print(counter)\n",
    "    counter += 1\n",
    "    if counter == 5:\n",
    "        print(\"Loop stopped with break\")\n",
    "        break"
   ]
  },
  {
   "cell_type": "code",
   "execution_count": 7,
   "id": "c4dcff90-2b8c-4b11-ab70-218f7f56b8c8",
   "metadata": {},
   "outputs": [
    {
     "name": "stdout",
     "output_type": "stream",
     "text": [
      "Using continue (skip when counter is 2):\n",
      "1\n",
      "3\n",
      "4\n",
      "5\n"
     ]
    }
   ],
   "source": [
    "print(\"Using continue (skip when counter is 2):\")\n",
    "counter = 0\n",
    "\n",
    "while counter < 5:\n",
    "    counter += 1\n",
    "    if counter == 2:\n",
    "        continue\n",
    "    print(counter)"
   ]
  },
  {
   "cell_type": "code",
   "execution_count": 9,
   "id": "ae9d940b-1539-435b-b7d7-ab1ad53a570a",
   "metadata": {},
   "outputs": [
    {
     "name": "stdout",
     "output_type": "stream",
     "text": [
      "Loop continues until user enters 'q':\n"
     ]
    },
    {
     "name": "stdin",
     "output_type": "stream",
     "text": [
      "Press 'q' to quit:  \n"
     ]
    },
    {
     "name": "stdout",
     "output_type": "stream",
     "text": [
      "Continuing...\n"
     ]
    },
    {
     "name": "stdin",
     "output_type": "stream",
     "text": [
      "Press 'q' to quit:  \n"
     ]
    },
    {
     "name": "stdout",
     "output_type": "stream",
     "text": [
      "Continuing...\n"
     ]
    },
    {
     "name": "stdin",
     "output_type": "stream",
     "text": [
      "Press 'q' to quit:  Q\n"
     ]
    },
    {
     "name": "stdout",
     "output_type": "stream",
     "text": [
      "Loop terminated.\n"
     ]
    }
   ],
   "source": [
    "print(\"Loop continues until user enters 'q':\")\n",
    "\n",
    "while True:\n",
    "    command = input(\"Press 'q' to quit: \")\n",
    "    if command.lower() == 'q':\n",
    "        print(\"Loop terminated.\")\n",
    "        break\n",
    "    else:\n",
    "        print(\"Continuing...\")"
   ]
  },
  {
   "cell_type": "code",
   "execution_count": null,
   "id": "99cd4e14-b24a-4c7f-a3d3-44e852d99b0d",
   "metadata": {},
   "outputs": [],
   "source": []
  }
 ],
 "metadata": {
  "kernelspec": {
   "display_name": "Python 3 (ipykernel)",
   "language": "python",
   "name": "python3"
  },
  "language_info": {
   "codemirror_mode": {
    "name": "ipython",
    "version": 3
   },
   "file_extension": ".py",
   "mimetype": "text/x-python",
   "name": "python",
   "nbconvert_exporter": "python",
   "pygments_lexer": "ipython3",
   "version": "3.12.7"
  }
 },
 "nbformat": 4,
 "nbformat_minor": 5
}
